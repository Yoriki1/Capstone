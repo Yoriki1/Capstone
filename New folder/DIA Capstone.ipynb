{
 "cells": [
  {
   "cell_type": "markdown",
   "id": "658b6482",
   "metadata": {},
   "source": [
    "# DIA Capstone: Modeling"
   ]
  },
  {
   "cell_type": "markdown",
   "id": "969396b3",
   "metadata": {},
   "source": [
    "## 1. Sourcing and Loading"
   ]
  },
  {
   "cell_type": "markdown",
   "id": "47e343e1",
   "metadata": {},
   "source": [
    "### 1a. Load relevant libraries "
   ]
  },
  {
   "cell_type": "code",
   "execution_count": 1,
   "id": "6cb979ea",
   "metadata": {},
   "outputs": [],
   "source": [
    "import pandas as pd\n",
    "import math\n",
    "import numpy as np\n",
    "import matplotlib.pylab as plt\n",
    "%matplotlib inline\n",
    "from sklearn.metrics import mean_squared_error\n",
    "from statsmodels.tsa.arima_model import ARIMA\n",
    "from sklearn.preprocessing import MinMaxScaler\n",
    "from tensorflow.keras.models import Sequential\n",
    "from tensorflow.keras.layers import Dense, Dropout, LSTM\n",
    "from tensorflow.keras.callbacks import ModelCheckpoint, EarlyStopping\n",
    "from sklearn.metrics import mean_squared_error\n",
    "import math"
   ]
  },
  {
   "cell_type": "markdown",
   "id": "806deea3",
   "metadata": {},
   "source": [
    "### 1b. Load the data"
   ]
  },
  {
   "cell_type": "code",
   "execution_count": 2,
   "id": "219e8a6a",
   "metadata": {},
   "outputs": [],
   "source": [
    "DIA = pd.read_csv('DIA (3).csv')"
   ]
  },
  {
   "cell_type": "markdown",
   "id": "2b692a5c",
   "metadata": {},
   "source": [
    "### 1c. Explore the data\n",
    "We now need to check whether the data conduces to a time series style analysis."
   ]
  },
  {
   "cell_type": "code",
   "execution_count": 3,
   "id": "1fae754b",
   "metadata": {},
   "outputs": [
    {
     "name": "stdout",
     "output_type": "stream",
     "text": [
      "<class 'pandas.core.frame.DataFrame'>\n",
      "RangeIndex: 1257 entries, 0 to 1256\n",
      "Data columns (total 7 columns):\n",
      " #   Column     Non-Null Count  Dtype  \n",
      "---  ------     --------------  -----  \n",
      " 0   Date       1257 non-null   object \n",
      " 1   Open       1257 non-null   float64\n",
      " 2   High       1257 non-null   float64\n",
      " 3   Low        1257 non-null   float64\n",
      " 4   Close      1257 non-null   float64\n",
      " 5   Adj Close  1257 non-null   float64\n",
      " 6   Volume     1257 non-null   int64  \n",
      "dtypes: float64(5), int64(1), object(1)\n",
      "memory usage: 68.9+ KB\n"
     ]
    }
   ],
   "source": [
    "DIA.info()"
   ]
  },
  {
   "cell_type": "code",
   "execution_count": 4,
   "id": "0b5a13ee",
   "metadata": {},
   "outputs": [
    {
     "data": {
      "text/html": [
       "<div>\n",
       "<style scoped>\n",
       "    .dataframe tbody tr th:only-of-type {\n",
       "        vertical-align: middle;\n",
       "    }\n",
       "\n",
       "    .dataframe tbody tr th {\n",
       "        vertical-align: top;\n",
       "    }\n",
       "\n",
       "    .dataframe thead th {\n",
       "        text-align: right;\n",
       "    }\n",
       "</style>\n",
       "<table border=\"1\" class=\"dataframe\">\n",
       "  <thead>\n",
       "    <tr style=\"text-align: right;\">\n",
       "      <th></th>\n",
       "      <th>Date</th>\n",
       "      <th>Open</th>\n",
       "      <th>High</th>\n",
       "      <th>Low</th>\n",
       "      <th>Close</th>\n",
       "      <th>Adj Close</th>\n",
       "      <th>Volume</th>\n",
       "    </tr>\n",
       "  </thead>\n",
       "  <tbody>\n",
       "    <tr>\n",
       "      <th>0</th>\n",
       "      <td>1/2/2015</td>\n",
       "      <td>178.649994</td>\n",
       "      <td>179.229996</td>\n",
       "      <td>176.979996</td>\n",
       "      <td>177.940002</td>\n",
       "      <td>153.454803</td>\n",
       "      <td>4997200</td>\n",
       "    </tr>\n",
       "    <tr>\n",
       "      <th>1</th>\n",
       "      <td>1/5/2015</td>\n",
       "      <td>177.059998</td>\n",
       "      <td>177.210007</td>\n",
       "      <td>174.460007</td>\n",
       "      <td>174.839996</td>\n",
       "      <td>150.781387</td>\n",
       "      <td>6700200</td>\n",
       "    </tr>\n",
       "    <tr>\n",
       "      <th>2</th>\n",
       "      <td>1/6/2015</td>\n",
       "      <td>175.100006</td>\n",
       "      <td>175.539993</td>\n",
       "      <td>172.320007</td>\n",
       "      <td>173.389999</td>\n",
       "      <td>149.530914</td>\n",
       "      <td>10131400</td>\n",
       "    </tr>\n",
       "    <tr>\n",
       "      <th>3</th>\n",
       "      <td>1/7/2015</td>\n",
       "      <td>174.850006</td>\n",
       "      <td>175.789993</td>\n",
       "      <td>174.240005</td>\n",
       "      <td>175.589996</td>\n",
       "      <td>151.428162</td>\n",
       "      <td>5547000</td>\n",
       "    </tr>\n",
       "    <tr>\n",
       "      <th>4</th>\n",
       "      <td>1/8/2015</td>\n",
       "      <td>177.259995</td>\n",
       "      <td>178.960007</td>\n",
       "      <td>177.210007</td>\n",
       "      <td>178.759995</td>\n",
       "      <td>154.161942</td>\n",
       "      <td>7166700</td>\n",
       "    </tr>\n",
       "  </tbody>\n",
       "</table>\n",
       "</div>"
      ],
      "text/plain": [
       "       Date        Open        High         Low       Close   Adj Close  \\\n",
       "0  1/2/2015  178.649994  179.229996  176.979996  177.940002  153.454803   \n",
       "1  1/5/2015  177.059998  177.210007  174.460007  174.839996  150.781387   \n",
       "2  1/6/2015  175.100006  175.539993  172.320007  173.389999  149.530914   \n",
       "3  1/7/2015  174.850006  175.789993  174.240005  175.589996  151.428162   \n",
       "4  1/8/2015  177.259995  178.960007  177.210007  178.759995  154.161942   \n",
       "\n",
       "     Volume  \n",
       "0   4997200  \n",
       "1   6700200  \n",
       "2  10131400  \n",
       "3   5547000  \n",
       "4   7166700  "
      ]
     },
     "execution_count": 4,
     "metadata": {},
     "output_type": "execute_result"
    }
   ],
   "source": [
    "DIA.head()"
   ]
  },
  {
   "cell_type": "code",
   "execution_count": 5,
   "id": "3b521ce6",
   "metadata": {
    "scrolled": true
   },
   "outputs": [
    {
     "data": {
      "text/plain": [
       "Date         0\n",
       "Open         0\n",
       "High         0\n",
       "Low          0\n",
       "Close        0\n",
       "Adj Close    0\n",
       "Volume       0\n",
       "dtype: int64"
      ]
     },
     "execution_count": 5,
     "metadata": {},
     "output_type": "execute_result"
    }
   ],
   "source": [
    "DIA.isna().sum()"
   ]
  },
  {
   "cell_type": "markdown",
   "id": "bc6fb83f",
   "metadata": {},
   "source": [
    "## 2. ARIMA"
   ]
  },
  {
   "cell_type": "markdown",
   "id": "8dc0c854",
   "metadata": {},
   "source": [
    "### 2a. Cleaning, transforming and visualizing for ARIMA "
   ]
  },
  {
   "cell_type": "code",
   "execution_count": 6,
   "id": "d89316a2",
   "metadata": {
    "scrolled": true
   },
   "outputs": [],
   "source": [
    "DIA['Date'] = pd.to_datetime(DIA['Date'])"
   ]
  },
  {
   "cell_type": "code",
   "execution_count": 7,
   "id": "2c72be91",
   "metadata": {},
   "outputs": [],
   "source": [
    "DIA = DIA.set_index('Date').asfreq('B').ffill()"
   ]
  },
  {
   "cell_type": "code",
   "execution_count": 8,
   "id": "08db868c",
   "metadata": {},
   "outputs": [],
   "source": [
    "y = DIA['Adj Close']"
   ]
  },
  {
   "cell_type": "code",
   "execution_count": 9,
   "id": "537d6361",
   "metadata": {},
   "outputs": [
    {
     "data": {
      "text/plain": [
       "pandas.core.series.Series"
      ]
     },
     "execution_count": 9,
     "metadata": {},
     "output_type": "execute_result"
    }
   ],
   "source": [
    "type(y)"
   ]
  },
  {
   "cell_type": "code",
   "execution_count": 10,
   "id": "a0a10188",
   "metadata": {},
   "outputs": [
    {
     "data": {
      "text/plain": [
       "0"
      ]
     },
     "execution_count": 10,
     "metadata": {},
     "output_type": "execute_result"
    }
   ],
   "source": [
    "y.isna().sum()"
   ]
  },
  {
   "cell_type": "markdown",
   "id": "a69b9036",
   "metadata": {},
   "source": [
    "### 2b. Decomposition"
   ]
  },
  {
   "cell_type": "code",
   "execution_count": 11,
   "id": "da3d408d",
   "metadata": {},
   "outputs": [
    {
     "data": {
      "image/png": "[encoded data removed]",
      "text/plain": [
       "<Figure size 432x288 with 4 Axes>"
      ]
     },
     "metadata": {
      "needs_background": "light"
     },
     "output_type": "display_data"
    }
   ],
   "source": [
    "from statsmodels.tsa.seasonal import seasonal_decompose\n",
    "\n",
    "decomposition = seasonal_decompose(y)\n",
    "\n",
    "trend = decomposition.trend\n",
    "seasonal = decomposition.seasonal\n",
    "residual = decomposition.resid\n",
    "\n",
    "# Plot the original data, the trend, the seasonality, and the residuals \n",
    "plt.subplot(411)\n",
    "plt.plot(y, label = 'Original')\n",
    "plt.legend(loc = 'best')\n",
    "plt.subplot(412)\n",
    "plt.plot(trend, label = 'Trend')\n",
    "plt.legend(loc = 'best')\n",
    "plt.subplot(413)\n",
    "plt.plot(seasonal, label = \"Seasonality\")\n",
    "plt.legend(loc = 'best')\n",
    "plt.subplot(414)\n",
    "plt.plot(residual, label = \"Residual\")\n",
    "plt.tight_layout()"
   ]
  },
  {
   "cell_type": "markdown",
   "id": "3cd16477",
   "metadata": {},
   "source": [
    "### 2b. Testing for stationarity with KPSS"
   ]
  },
  {
   "cell_type": "code",
   "execution_count": 12,
   "id": "3fc74fc4",
   "metadata": {},
   "outputs": [
    {
     "name": "stderr",
     "output_type": "stream",
     "text": [
      "C:\\Users\\yorik\\anaconda3\\lib\\site-packages\\statsmodels\\tsa\\stattools.py:1875: FutureWarning: The behavior of using nlags=None will change in release 0.13.Currently nlags=None is the same as nlags=\"legacy\", and so a sample-size lag length is used. After the next release, the default will change to be the same as nlags=\"auto\" which uses an automatic lag length selection method. To silence this warning, either use \"auto\" or \"legacy\"\n",
      "  warnings.warn(msg, FutureWarning)\n",
      "C:\\Users\\yorik\\anaconda3\\lib\\site-packages\\statsmodels\\tsa\\stattools.py:1906: InterpolationWarning: The test statistic is outside of the range of p-values available in the\n",
      "look-up table. The actual p-value is smaller than the p-value returned.\n",
      "\n",
      "  warnings.warn(\n"
     ]
    },
    {
     "data": {
      "text/plain": [
       "(5.3803298534460815,\n",
       " 0.01,\n",
       " 23,\n",
       " {'10%': 0.347, '5%': 0.463, '2.5%': 0.574, '1%': 0.739})"
      ]
     },
     "execution_count": 12,
     "metadata": {},
     "output_type": "execute_result"
    }
   ],
   "source": [
    "from statsmodels.tsa.stattools import kpss\n",
    "kpss(y)"
   ]
  },
  {
   "cell_type": "markdown",
   "id": "f2182caa",
   "metadata": {},
   "source": [
    "### 2c. Making the data stationary "
   ]
  },
  {
   "cell_type": "code",
   "execution_count": 13,
   "id": "01768f08",
   "metadata": {},
   "outputs": [],
   "source": [
    "y_log = np.log(y)"
   ]
  },
  {
   "cell_type": "code",
   "execution_count": 14,
   "id": "2dd3f984",
   "metadata": {
    "scrolled": true
   },
   "outputs": [
    {
     "data": {
      "image/png": "[encoded data removed]",
      "text/plain": [
       "<Figure size 720x360 with 1 Axes>"
      ]
     },
     "metadata": {
      "needs_background": "light"
     },
     "output_type": "display_data"
    }
   ],
   "source": [
    "_ = plt.figure(figsize=(10,5))\n",
    "_ = plt.plot(y_log.diff())"
   ]
  },
  {
   "cell_type": "code",
   "execution_count": 15,
   "id": "7d590ee1",
   "metadata": {
    "scrolled": false
   },
   "outputs": [
    {
     "name": "stderr",
     "output_type": "stream",
     "text": [
      "C:\\Users\\yorik\\anaconda3\\lib\\site-packages\\statsmodels\\tsa\\stattools.py:1910: InterpolationWarning: The test statistic is outside of the range of p-values available in the\n",
      "look-up table. The actual p-value is greater than the p-value returned.\n",
      "\n",
      "  warnings.warn(\n"
     ]
    },
    {
     "data": {
      "text/plain": [
       "(0.08738928379019296,\n",
       " 0.1,\n",
       " 23,\n",
       " {'10%': 0.347, '5%': 0.463, '2.5%': 0.574, '1%': 0.739})"
      ]
     },
     "execution_count": 15,
     "metadata": {},
     "output_type": "execute_result"
    }
   ],
   "source": [
    "kpss(y_log.diff().dropna())"
   ]
  },
  {
   "cell_type": "markdown",
   "id": "3150a946",
   "metadata": {},
   "source": [
    "### 2d. The ARIMA model"
   ]
  },
  {
   "cell_type": "code",
   "execution_count": 16,
   "id": "b9ecb806",
   "metadata": {},
   "outputs": [],
   "source": [
    "# Make a function called evaluate_arima_model to find the MSE of a single ARIMA model \n",
    "def evaluate_arima_model(data, arima_order):\n",
    "    split=int(len(data) * 0.65) \n",
    "    # Make train and test variables, with 'train, test'\n",
    "    train, test = data[0:split], data[split:len(data)]\n",
    "    past=[x for x in train]\n",
    "    # make predictions\n",
    "    predictions = list()\n",
    "    for i in range(len(test)):\n",
    "        model = ARIMA(past, order=arima_order)\n",
    "        model_fit = model.fit(disp=0)\n",
    "        future = model_fit.forecast()[0]\n",
    "        predictions.append(future)\n",
    "        past.append(test[i])\n",
    "    # calculate out of sample error\n",
    "    error = mean_squared_error(test, predictions)\n",
    "    # Return the error\n",
    "    return error"
   ]
  },
  {
   "cell_type": "code",
   "execution_count": 17,
   "id": "6372c066",
   "metadata": {},
   "outputs": [],
   "source": [
    "# Make a function called evaluate_models to evaluate different ARIMA models with several different p, d, and q values.\n",
    "def evaluate_models(dataset, p_values, d_values, q_values):\n",
    "    best_score, best_cfg = float(\"inf\"), None\n",
    "    # Iterate through p_values\n",
    "    for p in p_values:\n",
    "        # Iterate through d_values\n",
    "        for d in d_values:\n",
    "            # Iterate through q_values\n",
    "            for q in q_values:\n",
    "                # p, d, q iterator variables\n",
    "                order = (p,d,q)\n",
    "                try:\n",
    "                    # Make a variable called mse for the Mean squared error\n",
    "                    mse = evaluate_arima_model(dataset, order)\n",
    "                    if mse < best_score:\n",
    "                        best_score, best_cfg = mse, order\n",
    "                    print('ARIMA%s MSE=%.3f' % (order,mse))\n",
    "                except:\n",
    "                    continue\n",
    "    return print('Best ARIMA%s MSE=%.3f' % (best_cfg, best_score))"
   ]
  },
  {
   "cell_type": "code",
   "execution_count": 18,
   "id": "3b32cb0a",
   "metadata": {},
   "outputs": [],
   "source": [
    "p_values = [x for x in range(0, 3)]\n",
    "d_values = [x for x in range(0, 3)]\n",
    "q_values = [x for x in range(0, 3)]"
   ]
  },
  {
   "cell_type": "code",
   "execution_count": 19,
   "id": "ef24a43a",
   "metadata": {
    "scrolled": true
   },
   "outputs": [
    {
     "name": "stdout",
     "output_type": "stream",
     "text": [
      "ARIMA(0, 0, 0) MSE=0.079\n",
      "ARIMA(0, 0, 1) MSE=0.021\n",
      "ARIMA(0, 1, 0) MSE=0.000\n",
      "ARIMA(0, 1, 1) MSE=0.000\n",
      "ARIMA(0, 1, 2) MSE=0.000\n",
      "ARIMA(0, 2, 0) MSE=0.000\n",
      "ARIMA(0, 2, 1) MSE=0.000\n",
      "ARIMA(0, 2, 2) MSE=0.000\n",
      "ARIMA(1, 0, 0) MSE=0.000\n",
      "ARIMA(1, 1, 0) MSE=0.000\n",
      "ARIMA(1, 1, 1) MSE=0.000\n",
      "ARIMA(1, 1, 2) MSE=0.000\n",
      "ARIMA(1, 2, 0) MSE=0.000\n",
      "ARIMA(2, 0, 0) MSE=57123.249\n",
      "ARIMA(2, 1, 0) MSE=0.000\n",
      "ARIMA(2, 1, 1) MSE=0.000\n",
      "ARIMA(2, 1, 2) MSE=0.000\n",
      "ARIMA(2, 2, 0) MSE=0.000\n",
      "ARIMA(2, 2, 1) MSE=0.000\n",
      "ARIMA(2, 2, 2) MSE=0.000\n",
      "Best ARIMA(0, 1, 0) MSE=0.000\n"
     ]
    }
   ],
   "source": [
    "import warnings\n",
    "warnings.filterwarnings(\"ignore\")\n",
    "evaluate_models(y_log, p_values, d_values, q_values)"
   ]
  },
  {
   "cell_type": "code",
   "execution_count": 20,
   "id": "2f71d0dc",
   "metadata": {},
   "outputs": [],
   "source": [
    "p=0\n",
    "d=1\n",
    "q=0\n",
    "model = ARIMA(y_log, order=(p,d,q))\n",
    "model_fit = model.fit()\n",
    "forecast = model_fit.forecast(12)"
   ]
  },
  {
   "cell_type": "code",
   "execution_count": 21,
   "id": "198aed3e",
   "metadata": {
    "scrolled": false
   },
   "outputs": [
    {
     "data": {
      "text/html": [
       "<table class=\"simpletable\">\n",
       "<caption>ARIMA Model Results</caption>\n",
       "<tr>\n",
       "  <th>Dep. Variable:</th>    <td>D.Adj Close</td>   <th>  No. Observations:  </th>   <td>1301</td>   \n",
       "</tr>\n",
       "<tr>\n",
       "  <th>Model:</th>          <td>ARIMA(0, 1, 0)</td>  <th>  Log Likelihood     </th> <td>4374.443</td> \n",
       "</tr>\n",
       "<tr>\n",
       "  <th>Method:</th>               <td>css</td>       <th>  S.D. of innovations</th>   <td>0.008</td>  \n",
       "</tr>\n",
       "<tr>\n",
       "  <th>Date:</th>          <td>Mon, 15 Nov 2021</td> <th>  AIC                </th> <td>-8744.885</td>\n",
       "</tr>\n",
       "<tr>\n",
       "  <th>Time:</th>              <td>21:13:33</td>     <th>  BIC                </th> <td>-8734.543</td>\n",
       "</tr>\n",
       "<tr>\n",
       "  <th>Sample:</th>           <td>01-05-2015</td>    <th>  HQIC               </th> <td>-8741.005</td>\n",
       "</tr>\n",
       "<tr>\n",
       "  <th></th>                 <td>- 12-30-2019</td>   <th>                     </th>     <td> </td>    \n",
       "</tr>\n",
       "</table>\n",
       "<table class=\"simpletable\">\n",
       "<tr>\n",
       "    <td></td>       <th>coef</th>     <th>std err</th>      <th>z</th>      <th>P>|z|</th>  <th>[0.025</th>    <th>0.975]</th>  \n",
       "</tr>\n",
       "<tr>\n",
       "  <th>const</th> <td>    0.0004</td> <td>    0.000</td> <td>    1.927</td> <td> 0.054</td> <td>-7.58e-06</td> <td>    0.001</td>\n",
       "</tr>\n",
       "</table>"
      ],
      "text/plain": [
       "<class 'statsmodels.iolib.summary.Summary'>\n",
       "\"\"\"\n",
       "                             ARIMA Model Results                              \n",
       "==============================================================================\n",
       "Dep. Variable:            D.Adj Close   No. Observations:                 1301\n",
       "Model:                 ARIMA(0, 1, 0)   Log Likelihood                4374.443\n",
       "Method:                           css   S.D. of innovations              0.008\n",
       "Date:                Mon, 15 Nov 2021   AIC                          -8744.885\n",
       "Time:                        21:13:33   BIC                          -8734.543\n",
       "Sample:                    01-05-2015   HQIC                         -8741.005\n",
       "                         - 12-30-2019                                         \n",
       "==============================================================================\n",
       "                 coef    std err          z      P>|z|      [0.025      0.975]\n",
       "------------------------------------------------------------------------------\n",
       "const          0.0004      0.000      1.927      0.054   -7.58e-06       0.001\n",
       "==============================================================================\n",
       "\"\"\""
      ]
     },
     "execution_count": 21,
     "metadata": {},
     "output_type": "execute_result"
    }
   ],
   "source": [
    "model_fit.summary()"
   ]
  },
  {
   "cell_type": "markdown",
   "id": "3044ba12",
   "metadata": {},
   "source": [
    "### 2e. Visualize the results "
   ]
  },
  {
   "cell_type": "code",
   "execution_count": 22,
   "id": "b75db472",
   "metadata": {
    "scrolled": true
   },
   "outputs": [
    {
     "data": {
      "text/plain": [
       "[<matplotlib.lines.Line2D at 0x20eb6f04ee0>]"
      ]
     },
     "execution_count": 22,
     "metadata": {},
     "output_type": "execute_result"
    },
    {
     "data": {
      "image/png": "[encoded data removed]",
      "text/plain": [
       "<Figure size 1080x720 with 1 Axes>"
      ]
     },
     "metadata": {
      "needs_background": "light"
     },
     "output_type": "display_data"
    }
   ],
   "source": [
    "# Call figure() and plot() on the plt\n",
    "plt.figure(figsize=(15,10))\n",
    "plt.plot(y_log.diff())\n",
    "plt.plot(model_fit.predict(), color = 'red')"
   ]
  },
  {
   "cell_type": "markdown",
   "id": "07682017",
   "metadata": {},
   "source": [
    "### 2f. Application: Forecasting"
   ]
  },
  {
   "cell_type": "code",
   "execution_count": 23,
   "id": "5097b34e",
   "metadata": {
    "scrolled": true
   },
   "outputs": [
    {
     "data": {
      "image/png": "[encoded data removed]",
      "text/plain": [
       "<Figure size 1080x720 with 1 Axes>"
      ]
     },
     "metadata": {
      "needs_background": "light"
     },
     "output_type": "display_data"
    }
   ],
   "source": [
    "forecast_period = 12\n",
    "date_range = pd.date_range(y_log.index[-1], periods = forecast_period, \\\n",
    "                           freq='D').strftime(\"%Y-%m-%d\").tolist()\n",
    "\n",
    "future_dates = pd.DataFrame(date_range, columns = ['Date'])\n",
    "future_dates['Date'] = pd.to_datetime(future_dates['Date'])\n",
    "future_dates.set_index('Date', inplace = True)\n",
    "future_dates['Prediction'] = forecast[0]\n",
    "\n",
    "\n",
    "plt.figure(figsize=(15,10))\n",
    "plt.plot(y)\n",
    "plt.plot(y['2019'].append(np.exp(future_dates['Prediction'])))\n",
    "plt.show()"
   ]
  },
  {
   "cell_type": "markdown",
   "id": "2a9188a4",
   "metadata": {},
   "source": [
    "## 3. LSTM"
   ]
  },
  {
   "cell_type": "markdown",
   "id": "6e98f701",
   "metadata": {},
   "source": [
    "### 3a. Cleaning, transforming and visualizing for LSTM"
   ]
  },
  {
   "cell_type": "code",
   "execution_count": 24,
   "id": "d4d2f809",
   "metadata": {},
   "outputs": [
    {
     "data": {
      "text/plain": [
       "Date\n",
       "2015-01-02    153.454803\n",
       "2015-01-05    150.781387\n",
       "2015-01-06    149.530914\n",
       "2015-01-07    151.428162\n",
       "2015-01-08    154.161942\n",
       "Freq: B, Name: Adj Close, dtype: float64"
      ]
     },
     "execution_count": 24,
     "metadata": {},
     "output_type": "execute_result"
    }
   ],
   "source": [
    "y.head()"
   ]
  },
  {
   "cell_type": "code",
   "execution_count": 25,
   "id": "16e4d08d",
   "metadata": {
    "scrolled": true
   },
   "outputs": [
    {
     "data": {
      "image/png": "[encoded data removed]",
      "text/plain": [
       "<Figure size 432x288 with 1 Axes>"
      ]
     },
     "metadata": {
      "needs_background": "light"
     },
     "output_type": "display_data"
    }
   ],
   "source": [
    "plt.plot(y)\n",
    "plt.show()"
   ]
  },
  {
   "cell_type": "markdown",
   "id": "c564868c",
   "metadata": {},
   "source": [
    "### 3b. Scaling the data"
   ]
  },
  {
   "cell_type": "code",
   "execution_count": 26,
   "id": "f6bf7592",
   "metadata": {},
   "outputs": [],
   "source": [
    "# Scaling the data since LSTM is sensitive to the scale of the data\n",
    "scaler=MinMaxScaler(feature_range=(0,1))\n",
    "y=scaler.fit_transform(np.array(y).reshape(-1,1))"
   ]
  },
  {
   "cell_type": "code",
   "execution_count": 27,
   "id": "e5d5e895",
   "metadata": {},
   "outputs": [
    {
     "data": {
      "text/plain": [
       "array([[0.11787259],\n",
       "       [0.09872443],\n",
       "       [0.089768  ],\n",
       "       ...,\n",
       "       [0.99813202],\n",
       "       [1.        ],\n",
       "       [0.98754509]])"
      ]
     },
     "execution_count": 27,
     "metadata": {},
     "output_type": "execute_result"
    }
   ],
   "source": [
    "y"
   ]
  },
  {
   "cell_type": "markdown",
   "id": "19c67cc3",
   "metadata": {},
   "source": [
    "### 3c. Train, Test split"
   ]
  },
  {
   "cell_type": "code",
   "execution_count": 28,
   "id": "5a698df3",
   "metadata": {},
   "outputs": [],
   "source": [
    "# train , test split\n",
    "training_size=int(len(y)*0.65)\n",
    "test_size=len(y)-training_size\n",
    "train_data,test_data=y[0:training_size,:],y[training_size:len(y),:1]"
   ]
  },
  {
   "cell_type": "code",
   "execution_count": 29,
   "id": "9691aa5d",
   "metadata": {},
   "outputs": [
    {
     "data": {
      "text/plain": [
       "(846, 456)"
      ]
     },
     "execution_count": 29,
     "metadata": {},
     "output_type": "execute_result"
    }
   ],
   "source": [
    "training_size,test_size"
   ]
  },
  {
   "cell_type": "code",
   "execution_count": 30,
   "id": "8783272d",
   "metadata": {},
   "outputs": [],
   "source": [
    "def create_dataset(dataset, time_step=1):\n",
    "    dataX, dataY = [], []\n",
    "    for i in range(len(dataset)-time_step-1):\n",
    "        a = dataset[i:(i+time_step), 0]   \n",
    "        dataX.append(a)\n",
    "        dataY.append(dataset[i + time_step, 0])\n",
    "    return np.array(dataX), np.array(dataY)"
   ]
  },
  {
   "cell_type": "code",
   "execution_count": 31,
   "id": "0a0676dc",
   "metadata": {},
   "outputs": [],
   "source": [
    "time_step = 100\n",
    "X_train, y_train = create_dataset(train_data, time_step)\n",
    "X_test, y_test = create_dataset(test_data, time_step)"
   ]
  },
  {
   "cell_type": "code",
   "execution_count": 32,
   "id": "44b192d1",
   "metadata": {},
   "outputs": [
    {
     "data": {
      "text/plain": [
       "((745, 100), (745,))"
      ]
     },
     "execution_count": 32,
     "metadata": {},
     "output_type": "execute_result"
    }
   ],
   "source": [
    "X_train.shape, y_train.shape"
   ]
  },
  {
   "cell_type": "code",
   "execution_count": 33,
   "id": "1e56f622",
   "metadata": {},
   "outputs": [
    {
     "data": {
      "text/plain": [
       "((355, 100), (355,))"
      ]
     },
     "execution_count": 33,
     "metadata": {},
     "output_type": "execute_result"
    }
   ],
   "source": [
    "X_test.shape, y_test.shape"
   ]
  },
  {
   "cell_type": "code",
   "execution_count": 34,
   "id": "de864917",
   "metadata": {},
   "outputs": [],
   "source": [
    "X_train = X_train.reshape(X_train.shape[0],X_train.shape[1] , 1)\n",
    "X_test = X_test.reshape(X_test.shape[0],X_test.shape[1] , 1)"
   ]
  },
  {
   "cell_type": "markdown",
   "id": "0ad62bfe",
   "metadata": {},
   "source": [
    "### 3d. The LSTM model"
   ]
  },
  {
   "cell_type": "code",
   "execution_count": 35,
   "id": "eb9877d4",
   "metadata": {},
   "outputs": [],
   "source": [
    "model=Sequential()\n",
    "model.add(LSTM(50,return_sequences=True,input_shape=(100,1)))\n",
    "model.add(LSTM(50,return_sequences=True))\n",
    "model.add(LSTM(50))\n",
    "model.add(Dense(1))\n",
    "model.compile(loss='mean_squared_error',optimizer='adam')"
   ]
  },
  {
   "cell_type": "code",
   "execution_count": 36,
   "id": "ed9b8e90",
   "metadata": {},
   "outputs": [
    {
     "name": "stdout",
     "output_type": "stream",
     "text": [
      "Epoch 1/100\n",
      "12/12 [==============================] - 9s 293ms/step - loss: 0.0431 - val_loss: 0.0318\n",
      "Epoch 2/100\n",
      "12/12 [==============================] - 2s 175ms/step - loss: 0.0060 - val_loss: 0.0036\n",
      "Epoch 3/100\n",
      "12/12 [==============================] - 2s 190ms/step - loss: 0.0020 - val_loss: 0.0029\n",
      "Epoch 4/100\n",
      "12/12 [==============================] - 2s 190ms/step - loss: 0.0011 - val_loss: 0.0021\n",
      "Epoch 5/100\n",
      "12/12 [==============================] - 2s 179ms/step - loss: 8.7643e-04 - val_loss: 0.0028\n",
      "Epoch 6/100\n",
      "12/12 [==============================] - 2s 160ms/step - loss: 7.8498e-04 - val_loss: 0.0027\n",
      "Epoch 7/100\n",
      "12/12 [==============================] - 2s 156ms/step - loss: 8.2930e-04 - val_loss: 0.0029\n",
      "Epoch 8/100\n",
      "12/12 [==============================] - 2s 158ms/step - loss: 7.7148e-04 - val_loss: 0.0024\n",
      "Epoch 9/100\n",
      "12/12 [==============================] - 2s 174ms/step - loss: 7.0806e-04 - val_loss: 0.0020\n",
      "Epoch 10/100\n",
      "12/12 [==============================] - 2s 163ms/step - loss: 6.9659e-04 - val_loss: 0.0023\n",
      "Epoch 11/100\n",
      "12/12 [==============================] - 2s 162ms/step - loss: 6.9731e-04 - val_loss: 0.0019\n",
      "Epoch 12/100\n",
      "12/12 [==============================] - 2s 159ms/step - loss: 6.8256e-04 - val_loss: 0.0020\n",
      "Epoch 13/100\n",
      "12/12 [==============================] - 2s 159ms/step - loss: 7.5503e-04 - val_loss: 0.0019\n",
      "Epoch 14/100\n",
      "12/12 [==============================] - 2s 158ms/step - loss: 7.2876e-04 - val_loss: 0.0019\n",
      "Epoch 15/100\n",
      "12/12 [==============================] - 2s 157ms/step - loss: 6.8890e-04 - val_loss: 0.0021\n",
      "Epoch 16/100\n",
      "12/12 [==============================] - 2s 158ms/step - loss: 6.5847e-04 - val_loss: 0.0019\n",
      "Epoch 17/100\n",
      "12/12 [==============================] - 2s 185ms/step - loss: 6.4774e-04 - val_loss: 0.0019\n",
      "Epoch 18/100\n",
      "12/12 [==============================] - 2s 193ms/step - loss: 6.6203e-04 - val_loss: 0.0018\n",
      "Epoch 19/100\n",
      "12/12 [==============================] - 2s 162ms/step - loss: 6.3298e-04 - val_loss: 0.0018\n",
      "Epoch 20/100\n",
      "12/12 [==============================] - 2s 163ms/step - loss: 6.5229e-04 - val_loss: 0.0018\n",
      "Epoch 21/100\n",
      "12/12 [==============================] - 2s 163ms/step - loss: 6.4236e-04 - val_loss: 0.0021\n",
      "Epoch 22/100\n",
      "12/12 [==============================] - 2s 181ms/step - loss: 6.2846e-04 - val_loss: 0.0022\n",
      "Epoch 23/100\n",
      "12/12 [==============================] - 2s 179ms/step - loss: 6.3190e-04 - val_loss: 0.0018\n",
      "Epoch 24/100\n",
      "12/12 [==============================] - 2s 160ms/step - loss: 6.0861e-04 - val_loss: 0.0022\n",
      "Epoch 25/100\n",
      "12/12 [==============================] - 2s 160ms/step - loss: 5.9930e-04 - val_loss: 0.0027\n",
      "Epoch 26/100\n",
      "12/12 [==============================] - 2s 165ms/step - loss: 6.0123e-04 - val_loss: 0.0018\n",
      "Epoch 27/100\n",
      "12/12 [==============================] - 2s 162ms/step - loss: 6.0628e-04 - val_loss: 0.0017\n",
      "Epoch 28/100\n",
      "12/12 [==============================] - 2s 158ms/step - loss: 5.8803e-04 - val_loss: 0.0019\n",
      "Epoch 29/100\n",
      "12/12 [==============================] - 2s 182ms/step - loss: 6.0226e-04 - val_loss: 0.0023\n",
      "Epoch 30/100\n",
      "12/12 [==============================] - 2s 188ms/step - loss: 5.7278e-04 - val_loss: 0.0016\n",
      "Epoch 31/100\n",
      "12/12 [==============================] - 2s 166ms/step - loss: 5.7419e-04 - val_loss: 0.0020\n",
      "Epoch 32/100\n",
      "12/12 [==============================] - 2s 187ms/step - loss: 5.5913e-04 - val_loss: 0.0016\n",
      "Epoch 33/100\n",
      "12/12 [==============================] - 2s 161ms/step - loss: 6.0521e-04 - val_loss: 0.0019\n",
      "Epoch 34/100\n",
      "12/12 [==============================] - 2s 163ms/step - loss: 6.7521e-04 - val_loss: 0.0021\n",
      "Epoch 35/100\n",
      "12/12 [==============================] - 2s 161ms/step - loss: 6.2837e-04 - val_loss: 0.0018\n",
      "Epoch 36/100\n",
      "12/12 [==============================] - 2s 162ms/step - loss: 5.8908e-04 - val_loss: 0.0015\n",
      "Epoch 37/100\n",
      "12/12 [==============================] - 2s 161ms/step - loss: 6.1778e-04 - val_loss: 0.0020\n",
      "Epoch 38/100\n",
      "12/12 [==============================] - 2s 167ms/step - loss: 5.6888e-04 - val_loss: 0.0019\n",
      "Epoch 39/100\n",
      "12/12 [==============================] - 2s 171ms/step - loss: 5.2691e-04 - val_loss: 0.0015\n",
      "Epoch 40/100\n",
      "12/12 [==============================] - 2s 164ms/step - loss: 5.4454e-04 - val_loss: 0.0018\n",
      "Epoch 41/100\n",
      "12/12 [==============================] - 2s 159ms/step - loss: 5.6168e-04 - val_loss: 0.0016\n",
      "Epoch 42/100\n",
      "12/12 [==============================] - 2s 165ms/step - loss: 6.0523e-04 - val_loss: 0.0021\n",
      "Epoch 43/100\n",
      "12/12 [==============================] - 2s 160ms/step - loss: 5.5335e-04 - val_loss: 0.0018\n",
      "Epoch 44/100\n",
      "12/12 [==============================] - 2s 161ms/step - loss: 5.0509e-04 - val_loss: 0.0025\n",
      "Epoch 45/100\n",
      "12/12 [==============================] - 2s 160ms/step - loss: 6.0775e-04 - val_loss: 0.0014\n",
      "Epoch 46/100\n",
      "12/12 [==============================] - 2s 182ms/step - loss: 5.5232e-04 - val_loss: 0.0016\n",
      "Epoch 47/100\n",
      "12/12 [==============================] - 2s 181ms/step - loss: 4.8827e-04 - val_loss: 0.0013\n",
      "Epoch 48/100\n",
      "12/12 [==============================] - 2s 159ms/step - loss: 5.5131e-04 - val_loss: 0.0022\n",
      "Epoch 49/100\n",
      "12/12 [==============================] - 2s 158ms/step - loss: 5.1325e-04 - val_loss: 0.0014\n",
      "Epoch 50/100\n",
      "12/12 [==============================] - 2s 161ms/step - loss: 5.7281e-04 - val_loss: 0.0017\n",
      "Epoch 51/100\n",
      "12/12 [==============================] - 2s 162ms/step - loss: 4.8515e-04 - val_loss: 0.0013\n",
      "Epoch 52/100\n",
      "12/12 [==============================] - 2s 159ms/step - loss: 5.9440e-04 - val_loss: 0.0022\n",
      "Epoch 53/100\n",
      "12/12 [==============================] - 2s 181ms/step - loss: 4.9067e-04 - val_loss: 0.0021\n",
      "Epoch 54/100\n",
      "12/12 [==============================] - 2s 164ms/step - loss: 4.8788e-04 - val_loss: 0.0015\n",
      "Epoch 55/100\n",
      "12/12 [==============================] - 2s 182ms/step - loss: 4.4982e-04 - val_loss: 0.0015\n",
      "Epoch 56/100\n",
      "12/12 [==============================] - 3s 232ms/step - loss: 4.5818e-04 - val_loss: 0.0015\n",
      "Epoch 57/100\n",
      "12/12 [==============================] - 2s 185ms/step - loss: 4.5948e-04 - val_loss: 0.0018\n",
      "Epoch 58/100\n",
      "12/12 [==============================] - 2s 170ms/step - loss: 4.7993e-04 - val_loss: 0.0015\n",
      "Epoch 59/100\n",
      "12/12 [==============================] - 2s 162ms/step - loss: 4.3781e-04 - val_loss: 0.0021\n",
      "Epoch 60/100\n",
      "12/12 [==============================] - 2s 187ms/step - loss: 5.2466e-04 - val_loss: 0.0013\n",
      "Epoch 61/100\n",
      "12/12 [==============================] - 3s 206ms/step - loss: 5.0452e-04 - val_loss: 0.0037\n",
      "Epoch 62/100\n",
      "12/12 [==============================] - 2s 192ms/step - loss: 5.1545e-04 - val_loss: 0.0012\n",
      "Epoch 63/100\n",
      "12/12 [==============================] - 3s 209ms/step - loss: 4.4555e-04 - val_loss: 0.0020\n",
      "Epoch 64/100\n",
      "12/12 [==============================] - 2s 172ms/step - loss: 4.4359e-04 - val_loss: 0.0012\n",
      "Epoch 65/100\n",
      "12/12 [==============================] - 2s 188ms/step - loss: 4.1801e-04 - val_loss: 0.0014\n",
      "Epoch 66/100\n",
      "12/12 [==============================] - 2s 187ms/step - loss: 4.2125e-04 - val_loss: 0.0024\n",
      "Epoch 67/100\n",
      "12/12 [==============================] - 2s 169ms/step - loss: 4.2290e-04 - val_loss: 0.0013\n",
      "Epoch 68/100\n",
      "12/12 [==============================] - 2s 156ms/step - loss: 4.1133e-04 - val_loss: 0.0022\n",
      "Epoch 69/100\n",
      "12/12 [==============================] - 2s 156ms/step - loss: 4.1880e-04 - val_loss: 0.0015\n",
      "Epoch 70/100\n",
      "12/12 [==============================] - 2s 154ms/step - loss: 4.8248e-04 - val_loss: 0.0014\n",
      "Epoch 71/100\n",
      "12/12 [==============================] - 2s 162ms/step - loss: 3.9690e-04 - val_loss: 0.0017\n",
      "Epoch 72/100\n",
      "12/12 [==============================] - 2s 164ms/step - loss: 4.4324e-04 - val_loss: 0.0026\n",
      "Epoch 73/100\n",
      "12/12 [==============================] - 2s 164ms/step - loss: 4.1336e-04 - val_loss: 0.0017\n",
      "Epoch 74/100\n",
      "12/12 [==============================] - 2s 159ms/step - loss: 3.8747e-04 - val_loss: 0.0016\n",
      "Epoch 75/100\n",
      "12/12 [==============================] - 2s 156ms/step - loss: 3.8904e-04 - val_loss: 0.0024\n",
      "Epoch 76/100\n",
      "12/12 [==============================] - 2s 157ms/step - loss: 3.8752e-04 - val_loss: 0.0014\n",
      "Epoch 77/100\n",
      "12/12 [==============================] - 2s 157ms/step - loss: 4.0146e-04 - val_loss: 0.0019\n",
      "Epoch 78/100\n"
     ]
    },
    {
     "name": "stdout",
     "output_type": "stream",
     "text": [
      "12/12 [==============================] - 2s 157ms/step - loss: 4.2207e-04 - val_loss: 0.0038\n",
      "Epoch 79/100\n",
      "12/12 [==============================] - 2s 158ms/step - loss: 4.7618e-04 - val_loss: 0.0025\n",
      "Epoch 80/100\n",
      "12/12 [==============================] - 2s 157ms/step - loss: 4.3951e-04 - val_loss: 0.0014\n",
      "Epoch 81/100\n",
      "12/12 [==============================] - 2s 175ms/step - loss: 4.2853e-04 - val_loss: 0.0019\n",
      "Epoch 82/100\n",
      "12/12 [==============================] - 2s 164ms/step - loss: 3.9107e-04 - val_loss: 0.0029\n",
      "Epoch 83/100\n",
      "12/12 [==============================] - 2s 154ms/step - loss: 3.8260e-04 - val_loss: 0.0014\n",
      "Epoch 84/100\n",
      "12/12 [==============================] - 2s 158ms/step - loss: 3.9266e-04 - val_loss: 0.0020\n",
      "Epoch 85/100\n",
      "12/12 [==============================] - 2s 159ms/step - loss: 3.8830e-04 - val_loss: 0.0017\n",
      "Epoch 86/100\n",
      "12/12 [==============================] - 2s 180ms/step - loss: 4.0309e-04 - val_loss: 0.0019\n",
      "Epoch 87/100\n",
      "12/12 [==============================] - 2s 169ms/step - loss: 3.7512e-04 - val_loss: 0.0016\n",
      "Epoch 88/100\n",
      "12/12 [==============================] - 2s 159ms/step - loss: 3.5933e-04 - val_loss: 0.0020\n",
      "Epoch 89/100\n",
      "12/12 [==============================] - 2s 185ms/step - loss: 3.6649e-04 - val_loss: 0.0024\n",
      "Epoch 90/100\n",
      "12/12 [==============================] - 2s 167ms/step - loss: 3.6872e-04 - val_loss: 0.0021\n",
      "Epoch 91/100\n",
      "12/12 [==============================] - 2s 159ms/step - loss: 3.7714e-04 - val_loss: 0.0020\n",
      "Epoch 92/100\n",
      "12/12 [==============================] - 2s 180ms/step - loss: 3.8667e-04 - val_loss: 0.0017\n",
      "Epoch 93/100\n",
      "12/12 [==============================] - 2s 177ms/step - loss: 3.8539e-04 - val_loss: 0.0019\n",
      "Epoch 94/100\n",
      "12/12 [==============================] - 3s 217ms/step - loss: 3.4047e-04 - val_loss: 0.0023\n",
      "Epoch 95/100\n",
      "12/12 [==============================] - 2s 162ms/step - loss: 3.6249e-04 - val_loss: 0.0016\n",
      "Epoch 96/100\n",
      "12/12 [==============================] - 2s 160ms/step - loss: 3.8918e-04 - val_loss: 0.0023\n",
      "Epoch 97/100\n",
      "12/12 [==============================] - 2s 162ms/step - loss: 4.7120e-04 - val_loss: 0.0017\n",
      "Epoch 98/100\n",
      "12/12 [==============================] - 2s 167ms/step - loss: 4.3832e-04 - val_loss: 0.0011\n",
      "Epoch 99/100\n",
      "12/12 [==============================] - 2s 157ms/step - loss: 3.8244e-04 - val_loss: 0.0018\n",
      "Epoch 100/100\n",
      "12/12 [==============================] - 2s 162ms/step - loss: 3.2750e-04 - val_loss: 0.0011\n"
     ]
    },
    {
     "data": {
      "text/plain": [
       "<keras.callbacks.History at 0x20eb8a27a30>"
      ]
     },
     "execution_count": 36,
     "metadata": {},
     "output_type": "execute_result"
    }
   ],
   "source": [
    "model.fit(X_train,y_train,validation_data=(X_test,y_test),epochs=100,batch_size=64,verbose=1)"
   ]
  },
  {
   "cell_type": "code",
   "execution_count": 37,
   "id": "6dfa3f04",
   "metadata": {},
   "outputs": [],
   "source": [
    "train_predict = model.predict(X_train)\n",
    "test_predict = model.predict(X_test)"
   ]
  },
  {
   "cell_type": "code",
   "execution_count": 38,
   "id": "a719b762",
   "metadata": {},
   "outputs": [],
   "source": [
    "train_predict=scaler.inverse_transform(train_predict)\n",
    "test_predict=scaler.inverse_transform(test_predict)"
   ]
  },
  {
   "cell_type": "code",
   "execution_count": 39,
   "id": "4ad78be7",
   "metadata": {},
   "outputs": [
    {
     "data": {
      "text/plain": [
       "180.91826496723417"
      ]
     },
     "execution_count": 39,
     "metadata": {},
     "output_type": "execute_result"
    }
   ],
   "source": [
    "np.sqrt(mean_squared_error(y_train, train_predict))"
   ]
  },
  {
   "cell_type": "code",
   "execution_count": 40,
   "id": "ba0dfe77",
   "metadata": {},
   "outputs": [
    {
     "data": {
      "text/plain": [
       "246.27411940751463"
      ]
     },
     "execution_count": 40,
     "metadata": {},
     "output_type": "execute_result"
    }
   ],
   "source": [
    "np.sqrt(mean_squared_error(y_test,test_predict))"
   ]
  },
  {
   "cell_type": "code",
   "execution_count": 41,
   "id": "8f7c49d7",
   "metadata": {},
   "outputs": [
    {
     "data": {
      "image/png": "[encoded data removed]",
      "text/plain": [
       "<Figure size 432x288 with 1 Axes>"
      ]
     },
     "metadata": {
      "needs_background": "light"
     },
     "output_type": "display_data"
    }
   ],
   "source": [
    "# Plotting \n",
    "look_back=100\n",
    "trainPredictPlot = np.empty_like(y)\n",
    "trainPredictPlot[:, :] = np.nan\n",
    "trainPredictPlot[look_back:len(train_predict)+look_back, :] = train_predict\n",
    "# shift test predictions for plotting\n",
    "testPredictPlot = np.empty_like(y)\n",
    "testPredictPlot[:, :] = np.nan\n",
    "testPredictPlot[len(train_predict)+(look_back*2)+1:len(y)-1, :] = test_predict\n",
    "# plot\n",
    "plt.plot(scaler.inverse_transform(y))\n",
    "plt.plot(trainPredictPlot)\n",
    "plt.plot(testPredictPlot)\n",
    "plt.show()"
   ]
  },
  {
   "cell_type": "code",
   "execution_count": 42,
   "id": "45ff9908",
   "metadata": {},
   "outputs": [
    {
     "data": {
      "text/plain": [
       "456"
      ]
     },
     "execution_count": 42,
     "metadata": {},
     "output_type": "execute_result"
    }
   ],
   "source": [
    "len(test_data)"
   ]
  },
  {
   "cell_type": "code",
   "execution_count": 43,
   "id": "ce7ab75c",
   "metadata": {},
   "outputs": [
    {
     "data": {
      "text/plain": [
       "(1, 100)"
      ]
     },
     "execution_count": 43,
     "metadata": {},
     "output_type": "execute_result"
    }
   ],
   "source": [
    "x_input=test_data[356:].reshape(1,-1)\n",
    "x_input.shape"
   ]
  },
  {
   "cell_type": "code",
   "execution_count": 44,
   "id": "2ec86297",
   "metadata": {},
   "outputs": [],
   "source": [
    "temp_input=list(x_input)\n",
    "temp_input=temp_input[0].tolist()"
   ]
  },
  {
   "cell_type": "code",
   "execution_count": 45,
   "id": "4f635e88",
   "metadata": {
    "scrolled": false
   },
   "outputs": [],
   "source": [
    "_ = temp_input"
   ]
  },
  {
   "cell_type": "code",
   "execution_count": 46,
   "id": "6d152a2b",
   "metadata": {},
   "outputs": [
    {
     "name": "stdout",
     "output_type": "stream",
     "text": [
      "[0.9418777]\n",
      "101\n",
      "1 day input [0.76523263 0.77399616 0.79592248 0.81280976 0.80148282 0.81754682\n",
      " 0.82118498 0.77814263 0.79743275 0.78850824 0.80628864 0.83038338\n",
      " 0.83196229 0.83196229 0.81335905 0.83058917 0.85633255 0.86072601\n",
      " 0.8640211  0.86807139 0.88386096 0.88818535 0.89010776 0.88029111\n",
      " 0.88296806 0.8857825  0.8820074  0.87152737 0.87228387 0.86271902\n",
      " 0.87379754 0.86898135 0.86285651 0.87104539 0.84572246 0.81283009\n",
      " 0.82170728 0.84682322 0.84049238 0.81874868 0.83147802 0.84235009\n",
      " 0.864027   0.8619623  0.87820192 0.87723864 0.8793027  0.86162722\n",
      " 0.86555226 0.86286635 0.8657586  0.86396821 0.87512345 0.88345485\n",
      " 0.88386796 0.88985902 0.88118292 0.90087481 0.90920708 0.91099725\n",
      " 0.91092796 0.92642135 0.92655862 0.92717852 0.9280736  0.93330641\n",
      " 0.9345462  0.94988811 0.9521644  0.94567957 0.93788522 0.93457395\n",
      " 0.94243737 0.95582038 0.95968334 0.96347811 0.96347811 0.95685535\n",
      " 0.93788522 0.91932886 0.92995164 0.93209045 0.95513075 0.94864614\n",
      " 0.94657706 0.94836986 0.96375396 0.96485757 0.97148033 0.97375574\n",
      " 0.97244492 0.98106856 0.98706071 0.99308041 0.99086663 0.99086663\n",
      " 0.99813202 1.         0.98754509 0.94187772]\n",
      "1 day output [[0.93750405]]\n",
      "2 day input [0.77399616 0.79592248 0.81280976 0.80148282 0.81754682 0.82118498\n",
      " 0.77814263 0.79743275 0.78850824 0.80628864 0.83038338 0.83196229\n",
      " 0.83196229 0.81335905 0.83058917 0.85633255 0.86072601 0.8640211\n",
      " 0.86807139 0.88386096 0.88818535 0.89010776 0.88029111 0.88296806\n",
      " 0.8857825  0.8820074  0.87152737 0.87228387 0.86271902 0.87379754\n",
      " 0.86898135 0.86285651 0.87104539 0.84572246 0.81283009 0.82170728\n",
      " 0.84682322 0.84049238 0.81874868 0.83147802 0.84235009 0.864027\n",
      " 0.8619623  0.87820192 0.87723864 0.8793027  0.86162722 0.86555226\n",
      " 0.86286635 0.8657586  0.86396821 0.87512345 0.88345485 0.88386796\n",
      " 0.88985902 0.88118292 0.90087481 0.90920708 0.91099725 0.91092796\n",
      " 0.92642135 0.92655862 0.92717852 0.9280736  0.93330641 0.9345462\n",
      " 0.94988811 0.9521644  0.94567957 0.93788522 0.93457395 0.94243737\n",
      " 0.95582038 0.95968334 0.96347811 0.96347811 0.95685535 0.93788522\n",
      " 0.91932886 0.92995164 0.93209045 0.95513075 0.94864614 0.94657706\n",
      " 0.94836986 0.96375396 0.96485757 0.97148033 0.97375574 0.97244492\n",
      " 0.98106856 0.98706071 0.99308041 0.99086663 0.99086663 0.99813202\n",
      " 1.         0.98754509 0.94187772 0.93750405]\n",
      "2 day output [[0.9295801]]\n",
      "3 day input [0.79592248 0.81280976 0.80148282 0.81754682 0.82118498 0.77814263\n",
      " 0.79743275 0.78850824 0.80628864 0.83038338 0.83196229 0.83196229\n",
      " 0.81335905 0.83058917 0.85633255 0.86072601 0.8640211  0.86807139\n",
      " 0.88386096 0.88818535 0.89010776 0.88029111 0.88296806 0.8857825\n",
      " 0.8820074  0.87152737 0.87228387 0.86271902 0.87379754 0.86898135\n",
      " 0.86285651 0.87104539 0.84572246 0.81283009 0.82170728 0.84682322\n",
      " 0.84049238 0.81874868 0.83147802 0.84235009 0.864027   0.8619623\n",
      " 0.87820192 0.87723864 0.8793027  0.86162722 0.86555226 0.86286635\n",
      " 0.8657586  0.86396821 0.87512345 0.88345485 0.88386796 0.88985902\n",
      " 0.88118292 0.90087481 0.90920708 0.91099725 0.91092796 0.92642135\n",
      " 0.92655862 0.92717852 0.9280736  0.93330641 0.9345462  0.94988811\n",
      " 0.9521644  0.94567957 0.93788522 0.93457395 0.94243737 0.95582038\n",
      " 0.95968334 0.96347811 0.96347811 0.95685535 0.93788522 0.91932886\n",
      " 0.92995164 0.93209045 0.95513075 0.94864614 0.94657706 0.94836986\n",
      " 0.96375396 0.96485757 0.97148033 0.97375574 0.97244492 0.98106856\n",
      " 0.98706071 0.99308041 0.99086663 0.99086663 0.99813202 1.\n",
      " 0.98754509 0.94187772 0.93750405 0.92958009]\n",
      "3 day output [[0.9195111]]\n",
      "4 day input [0.81280976 0.80148282 0.81754682 0.82118498 0.77814263 0.79743275\n",
      " 0.78850824 0.80628864 0.83038338 0.83196229 0.83196229 0.81335905\n",
      " 0.83058917 0.85633255 0.86072601 0.8640211  0.86807139 0.88386096\n",
      " 0.88818535 0.89010776 0.88029111 0.88296806 0.8857825  0.8820074\n",
      " 0.87152737 0.87228387 0.86271902 0.87379754 0.86898135 0.86285651\n",
      " 0.87104539 0.84572246 0.81283009 0.82170728 0.84682322 0.84049238\n",
      " 0.81874868 0.83147802 0.84235009 0.864027   0.8619623  0.87820192\n",
      " 0.87723864 0.8793027  0.86162722 0.86555226 0.86286635 0.8657586\n",
      " 0.86396821 0.87512345 0.88345485 0.88386796 0.88985902 0.88118292\n",
      " 0.90087481 0.90920708 0.91099725 0.91092796 0.92642135 0.92655862\n",
      " 0.92717852 0.9280736  0.93330641 0.9345462  0.94988811 0.9521644\n",
      " 0.94567957 0.93788522 0.93457395 0.94243737 0.95582038 0.95968334\n",
      " 0.96347811 0.96347811 0.95685535 0.93788522 0.91932886 0.92995164\n",
      " 0.93209045 0.95513075 0.94864614 0.94657706 0.94836986 0.96375396\n",
      " 0.96485757 0.97148033 0.97375574 0.97244492 0.98106856 0.98706071\n",
      " 0.99308041 0.99086663 0.99086663 0.99813202 1.         0.98754509\n",
      " 0.94187772 0.93750405 0.92958009 0.91951108]\n",
      "4 day output [[0.9084879]]\n",
      "5 day input [0.80148282 0.81754682 0.82118498 0.77814263 0.79743275 0.78850824\n",
      " 0.80628864 0.83038338 0.83196229 0.83196229 0.81335905 0.83058917\n",
      " 0.85633255 0.86072601 0.8640211  0.86807139 0.88386096 0.88818535\n",
      " 0.89010776 0.88029111 0.88296806 0.8857825  0.8820074  0.87152737\n",
      " 0.87228387 0.86271902 0.87379754 0.86898135 0.86285651 0.87104539\n",
      " 0.84572246 0.81283009 0.82170728 0.84682322 0.84049238 0.81874868\n",
      " 0.83147802 0.84235009 0.864027   0.8619623  0.87820192 0.87723864\n",
      " 0.8793027  0.86162722 0.86555226 0.86286635 0.8657586  0.86396821\n",
      " 0.87512345 0.88345485 0.88386796 0.88985902 0.88118292 0.90087481\n",
      " 0.90920708 0.91099725 0.91092796 0.92642135 0.92655862 0.92717852\n",
      " 0.9280736  0.93330641 0.9345462  0.94988811 0.9521644  0.94567957\n",
      " 0.93788522 0.93457395 0.94243737 0.95582038 0.95968334 0.96347811\n",
      " 0.96347811 0.95685535 0.93788522 0.91932886 0.92995164 0.93209045\n",
      " 0.95513075 0.94864614 0.94657706 0.94836986 0.96375396 0.96485757\n",
      " 0.97148033 0.97375574 0.97244492 0.98106856 0.98706071 0.99308041\n",
      " 0.99086663 0.99086663 0.99813202 1.         0.98754509 0.94187772\n",
      " 0.93750405 0.92958009 0.91951108 0.90848792]\n",
      "5 day output [[0.89734316]]\n",
      "6 day input [0.81754682 0.82118498 0.77814263 0.79743275 0.78850824 0.80628864\n",
      " 0.83038338 0.83196229 0.83196229 0.81335905 0.83058917 0.85633255\n",
      " 0.86072601 0.8640211  0.86807139 0.88386096 0.88818535 0.89010776\n",
      " 0.88029111 0.88296806 0.8857825  0.8820074  0.87152737 0.87228387\n",
      " 0.86271902 0.87379754 0.86898135 0.86285651 0.87104539 0.84572246\n",
      " 0.81283009 0.82170728 0.84682322 0.84049238 0.81874868 0.83147802\n",
      " 0.84235009 0.864027   0.8619623  0.87820192 0.87723864 0.8793027\n",
      " 0.86162722 0.86555226 0.86286635 0.8657586  0.86396821 0.87512345\n",
      " 0.88345485 0.88386796 0.88985902 0.88118292 0.90087481 0.90920708\n",
      " 0.91099725 0.91092796 0.92642135 0.92655862 0.92717852 0.9280736\n",
      " 0.93330641 0.9345462  0.94988811 0.9521644  0.94567957 0.93788522\n",
      " 0.93457395 0.94243737 0.95582038 0.95968334 0.96347811 0.96347811\n",
      " 0.95685535 0.93788522 0.91932886 0.92995164 0.93209045 0.95513075\n",
      " 0.94864614 0.94657706 0.94836986 0.96375396 0.96485757 0.97148033\n",
      " 0.97375574 0.97244492 0.98106856 0.98706071 0.99308041 0.99086663\n",
      " 0.99086663 0.99813202 1.         0.98754509 0.94187772 0.93750405\n",
      " 0.92958009 0.91951108 0.90848792 0.89734316]\n",
      "6 day output [[0.8865924]]\n",
      "7 day input [0.82118498 0.77814263 0.79743275 0.78850824 0.80628864 0.83038338\n",
      " 0.83196229 0.83196229 0.81335905 0.83058917 0.85633255 0.86072601\n",
      " 0.8640211  0.86807139 0.88386096 0.88818535 0.89010776 0.88029111\n",
      " 0.88296806 0.8857825  0.8820074  0.87152737 0.87228387 0.86271902\n",
      " 0.87379754 0.86898135 0.86285651 0.87104539 0.84572246 0.81283009\n",
      " 0.82170728 0.84682322 0.84049238 0.81874868 0.83147802 0.84235009\n",
      " 0.864027   0.8619623  0.87820192 0.87723864 0.8793027  0.86162722\n",
      " 0.86555226 0.86286635 0.8657586  0.86396821 0.87512345 0.88345485\n",
      " 0.88386796 0.88985902 0.88118292 0.90087481 0.90920708 0.91099725\n",
      " 0.91092796 0.92642135 0.92655862 0.92717852 0.9280736  0.93330641\n",
      " 0.9345462  0.94988811 0.9521644  0.94567957 0.93788522 0.93457395\n",
      " 0.94243737 0.95582038 0.95968334 0.96347811 0.96347811 0.95685535\n",
      " 0.93788522 0.91932886 0.92995164 0.93209045 0.95513075 0.94864614\n",
      " 0.94657706 0.94836986 0.96375396 0.96485757 0.97148033 0.97375574\n",
      " 0.97244492 0.98106856 0.98706071 0.99308041 0.99086663 0.99086663\n",
      " 0.99813202 1.         0.98754509 0.94187772 0.93750405 0.92958009\n",
      " 0.91951108 0.90848792 0.89734316 0.88659239]\n",
      "7 day output [[0.87652206]]\n",
      "8 day input [0.77814263 0.79743275 0.78850824 0.80628864 0.83038338 0.83196229\n",
      " 0.83196229 0.81335905 0.83058917 0.85633255 0.86072601 0.8640211\n",
      " 0.86807139 0.88386096 0.88818535 0.89010776 0.88029111 0.88296806\n",
      " 0.8857825  0.8820074  0.87152737 0.87228387 0.86271902 0.87379754\n",
      " 0.86898135 0.86285651 0.87104539 0.84572246 0.81283009 0.82170728\n",
      " 0.84682322 0.84049238 0.81874868 0.83147802 0.84235009 0.864027\n",
      " 0.8619623  0.87820192 0.87723864 0.8793027  0.86162722 0.86555226\n",
      " 0.86286635 0.8657586  0.86396821 0.87512345 0.88345485 0.88386796\n",
      " 0.88985902 0.88118292 0.90087481 0.90920708 0.91099725 0.91092796\n",
      " 0.92642135 0.92655862 0.92717852 0.9280736  0.93330641 0.9345462\n",
      " 0.94988811 0.9521644  0.94567957 0.93788522 0.93457395 0.94243737\n",
      " 0.95582038 0.95968334 0.96347811 0.96347811 0.95685535 0.93788522\n",
      " 0.91932886 0.92995164 0.93209045 0.95513075 0.94864614 0.94657706\n",
      " 0.94836986 0.96375396 0.96485757 0.97148033 0.97375574 0.97244492\n",
      " 0.98106856 0.98706071 0.99308041 0.99086663 0.99086663 0.99813202\n",
      " 1.         0.98754509 0.94187772 0.93750405 0.92958009 0.91951108\n",
      " 0.90848792 0.89734316 0.88659239 0.87652206]\n",
      "8 day output [[0.86727357]]\n",
      "9 day input [0.79743275 0.78850824 0.80628864 0.83038338 0.83196229 0.83196229\n",
      " 0.81335905 0.83058917 0.85633255 0.86072601 0.8640211  0.86807139\n",
      " 0.88386096 0.88818535 0.89010776 0.88029111 0.88296806 0.8857825\n",
      " 0.8820074  0.87152737 0.87228387 0.86271902 0.87379754 0.86898135\n",
      " 0.86285651 0.87104539 0.84572246 0.81283009 0.82170728 0.84682322\n",
      " 0.84049238 0.81874868 0.83147802 0.84235009 0.864027   0.8619623\n",
      " 0.87820192 0.87723864 0.8793027  0.86162722 0.86555226 0.86286635\n",
      " 0.8657586  0.86396821 0.87512345 0.88345485 0.88386796 0.88985902\n",
      " 0.88118292 0.90087481 0.90920708 0.91099725 0.91092796 0.92642135\n",
      " 0.92655862 0.92717852 0.9280736  0.93330641 0.9345462  0.94988811\n",
      " 0.9521644  0.94567957 0.93788522 0.93457395 0.94243737 0.95582038\n",
      " 0.95968334 0.96347811 0.96347811 0.95685535 0.93788522 0.91932886\n",
      " 0.92995164 0.93209045 0.95513075 0.94864614 0.94657706 0.94836986\n",
      " 0.96375396 0.96485757 0.97148033 0.97375574 0.97244492 0.98106856\n",
      " 0.98706071 0.99308041 0.99086663 0.99086663 0.99813202 1.\n",
      " 0.98754509 0.94187772 0.93750405 0.92958009 0.91951108 0.90848792\n",
      " 0.89734316 0.88659239 0.87652206 0.86727357]\n",
      "9 day output [[0.85889995]]\n",
      "10 day input [0.78850824 0.80628864 0.83038338 0.83196229 0.83196229 0.81335905\n",
      " 0.83058917 0.85633255 0.86072601 0.8640211  0.86807139 0.88386096\n",
      " 0.88818535 0.89010776 0.88029111 0.88296806 0.8857825  0.8820074\n",
      " 0.87152737 0.87228387 0.86271902 0.87379754 0.86898135 0.86285651\n",
      " 0.87104539 0.84572246 0.81283009 0.82170728 0.84682322 0.84049238\n",
      " 0.81874868 0.83147802 0.84235009 0.864027   0.8619623  0.87820192\n",
      " 0.87723864 0.8793027  0.86162722 0.86555226 0.86286635 0.8657586\n",
      " 0.86396821 0.87512345 0.88345485 0.88386796 0.88985902 0.88118292\n",
      " 0.90087481 0.90920708 0.91099725 0.91092796 0.92642135 0.92655862\n",
      " 0.92717852 0.9280736  0.93330641 0.9345462  0.94988811 0.9521644\n",
      " 0.94567957 0.93788522 0.93457395 0.94243737 0.95582038 0.95968334\n",
      " 0.96347811 0.96347811 0.95685535 0.93788522 0.91932886 0.92995164\n",
      " 0.93209045 0.95513075 0.94864614 0.94657706 0.94836986 0.96375396\n",
      " 0.96485757 0.97148033 0.97375574 0.97244492 0.98106856 0.98706071\n",
      " 0.99308041 0.99086663 0.99086663 0.99813202 1.         0.98754509\n",
      " 0.94187772 0.93750405 0.92958009 0.91951108 0.90848792 0.89734316\n",
      " 0.88659239 0.87652206 0.86727357 0.85889995]\n",
      "10 day output [[0.8514048]]\n",
      "11 day input [0.80628864 0.83038338 0.83196229 0.83196229 0.81335905 0.83058917\n",
      " 0.85633255 0.86072601 0.8640211  0.86807139 0.88386096 0.88818535\n",
      " 0.89010776 0.88029111 0.88296806 0.8857825  0.8820074  0.87152737\n",
      " 0.87228387 0.86271902 0.87379754 0.86898135 0.86285651 0.87104539\n",
      " 0.84572246 0.81283009 0.82170728 0.84682322 0.84049238 0.81874868\n",
      " 0.83147802 0.84235009 0.864027   0.8619623  0.87820192 0.87723864\n",
      " 0.8793027  0.86162722 0.86555226 0.86286635 0.8657586  0.86396821\n",
      " 0.87512345 0.88345485 0.88386796 0.88985902 0.88118292 0.90087481\n",
      " 0.90920708 0.91099725 0.91092796 0.92642135 0.92655862 0.92717852\n",
      " 0.9280736  0.93330641 0.9345462  0.94988811 0.9521644  0.94567957\n",
      " 0.93788522 0.93457395 0.94243737 0.95582038 0.95968334 0.96347811\n",
      " 0.96347811 0.95685535 0.93788522 0.91932886 0.92995164 0.93209045\n",
      " 0.95513075 0.94864614 0.94657706 0.94836986 0.96375396 0.96485757\n",
      " 0.97148033 0.97375574 0.97244492 0.98106856 0.98706071 0.99308041\n",
      " 0.99086663 0.99086663 0.99813202 1.         0.98754509 0.94187772\n",
      " 0.93750405 0.92958009 0.91951108 0.90848792 0.89734316 0.88659239\n",
      " 0.87652206 0.86727357 0.85889995 0.85140479]\n"
     ]
    },
    {
     "name": "stdout",
     "output_type": "stream",
     "text": [
      "11 day output [[0.84476197]]\n",
      "12 day input [0.83038338 0.83196229 0.83196229 0.81335905 0.83058917 0.85633255\n",
      " 0.86072601 0.8640211  0.86807139 0.88386096 0.88818535 0.89010776\n",
      " 0.88029111 0.88296806 0.8857825  0.8820074  0.87152737 0.87228387\n",
      " 0.86271902 0.87379754 0.86898135 0.86285651 0.87104539 0.84572246\n",
      " 0.81283009 0.82170728 0.84682322 0.84049238 0.81874868 0.83147802\n",
      " 0.84235009 0.864027   0.8619623  0.87820192 0.87723864 0.8793027\n",
      " 0.86162722 0.86555226 0.86286635 0.8657586  0.86396821 0.87512345\n",
      " 0.88345485 0.88386796 0.88985902 0.88118292 0.90087481 0.90920708\n",
      " 0.91099725 0.91092796 0.92642135 0.92655862 0.92717852 0.9280736\n",
      " 0.93330641 0.9345462  0.94988811 0.9521644  0.94567957 0.93788522\n",
      " 0.93457395 0.94243737 0.95582038 0.95968334 0.96347811 0.96347811\n",
      " 0.95685535 0.93788522 0.91932886 0.92995164 0.93209045 0.95513075\n",
      " 0.94864614 0.94657706 0.94836986 0.96375396 0.96485757 0.97148033\n",
      " 0.97375574 0.97244492 0.98106856 0.98706071 0.99308041 0.99086663\n",
      " 0.99086663 0.99813202 1.         0.98754509 0.94187772 0.93750405\n",
      " 0.92958009 0.91951108 0.90848792 0.89734316 0.88659239 0.87652206\n",
      " 0.86727357 0.85889995 0.85140479 0.84476197]\n",
      "12 day output [[0.83892787]]\n",
      "13 day input [0.83196229 0.83196229 0.81335905 0.83058917 0.85633255 0.86072601\n",
      " 0.8640211  0.86807139 0.88386096 0.88818535 0.89010776 0.88029111\n",
      " 0.88296806 0.8857825  0.8820074  0.87152737 0.87228387 0.86271902\n",
      " 0.87379754 0.86898135 0.86285651 0.87104539 0.84572246 0.81283009\n",
      " 0.82170728 0.84682322 0.84049238 0.81874868 0.83147802 0.84235009\n",
      " 0.864027   0.8619623  0.87820192 0.87723864 0.8793027  0.86162722\n",
      " 0.86555226 0.86286635 0.8657586  0.86396821 0.87512345 0.88345485\n",
      " 0.88386796 0.88985902 0.88118292 0.90087481 0.90920708 0.91099725\n",
      " 0.91092796 0.92642135 0.92655862 0.92717852 0.9280736  0.93330641\n",
      " 0.9345462  0.94988811 0.9521644  0.94567957 0.93788522 0.93457395\n",
      " 0.94243737 0.95582038 0.95968334 0.96347811 0.96347811 0.95685535\n",
      " 0.93788522 0.91932886 0.92995164 0.93209045 0.95513075 0.94864614\n",
      " 0.94657706 0.94836986 0.96375396 0.96485757 0.97148033 0.97375574\n",
      " 0.97244492 0.98106856 0.98706071 0.99308041 0.99086663 0.99086663\n",
      " 0.99813202 1.         0.98754509 0.94187772 0.93750405 0.92958009\n",
      " 0.91951108 0.90848792 0.89734316 0.88659239 0.87652206 0.86727357\n",
      " 0.85889995 0.85140479 0.84476197 0.83892787]\n",
      "13 day output [[0.83384717]]\n",
      "14 day input [0.83196229 0.81335905 0.83058917 0.85633255 0.86072601 0.8640211\n",
      " 0.86807139 0.88386096 0.88818535 0.89010776 0.88029111 0.88296806\n",
      " 0.8857825  0.8820074  0.87152737 0.87228387 0.86271902 0.87379754\n",
      " 0.86898135 0.86285651 0.87104539 0.84572246 0.81283009 0.82170728\n",
      " 0.84682322 0.84049238 0.81874868 0.83147802 0.84235009 0.864027\n",
      " 0.8619623  0.87820192 0.87723864 0.8793027  0.86162722 0.86555226\n",
      " 0.86286635 0.8657586  0.86396821 0.87512345 0.88345485 0.88386796\n",
      " 0.88985902 0.88118292 0.90087481 0.90920708 0.91099725 0.91092796\n",
      " 0.92642135 0.92655862 0.92717852 0.9280736  0.93330641 0.9345462\n",
      " 0.94988811 0.9521644  0.94567957 0.93788522 0.93457395 0.94243737\n",
      " 0.95582038 0.95968334 0.96347811 0.96347811 0.95685535 0.93788522\n",
      " 0.91932886 0.92995164 0.93209045 0.95513075 0.94864614 0.94657706\n",
      " 0.94836986 0.96375396 0.96485757 0.97148033 0.97375574 0.97244492\n",
      " 0.98106856 0.98706071 0.99308041 0.99086663 0.99086663 0.99813202\n",
      " 1.         0.98754509 0.94187772 0.93750405 0.92958009 0.91951108\n",
      " 0.90848792 0.89734316 0.88659239 0.87652206 0.86727357 0.85889995\n",
      " 0.85140479 0.84476197 0.83892787 0.83384717]\n",
      "14 day output [[0.8294579]]\n",
      "15 day input [0.81335905 0.83058917 0.85633255 0.86072601 0.8640211  0.86807139\n",
      " 0.88386096 0.88818535 0.89010776 0.88029111 0.88296806 0.8857825\n",
      " 0.8820074  0.87152737 0.87228387 0.86271902 0.87379754 0.86898135\n",
      " 0.86285651 0.87104539 0.84572246 0.81283009 0.82170728 0.84682322\n",
      " 0.84049238 0.81874868 0.83147802 0.84235009 0.864027   0.8619623\n",
      " 0.87820192 0.87723864 0.8793027  0.86162722 0.86555226 0.86286635\n",
      " 0.8657586  0.86396821 0.87512345 0.88345485 0.88386796 0.88985902\n",
      " 0.88118292 0.90087481 0.90920708 0.91099725 0.91092796 0.92642135\n",
      " 0.92655862 0.92717852 0.9280736  0.93330641 0.9345462  0.94988811\n",
      " 0.9521644  0.94567957 0.93788522 0.93457395 0.94243737 0.95582038\n",
      " 0.95968334 0.96347811 0.96347811 0.95685535 0.93788522 0.91932886\n",
      " 0.92995164 0.93209045 0.95513075 0.94864614 0.94657706 0.94836986\n",
      " 0.96375396 0.96485757 0.97148033 0.97375574 0.97244492 0.98106856\n",
      " 0.98706071 0.99308041 0.99086663 0.99086663 0.99813202 1.\n",
      " 0.98754509 0.94187772 0.93750405 0.92958009 0.91951108 0.90848792\n",
      " 0.89734316 0.88659239 0.87652206 0.86727357 0.85889995 0.85140479\n",
      " 0.84476197 0.83892787 0.83384717 0.82945788]\n",
      "15 day output [[0.82569265]]\n",
      "16 day input [0.83058917 0.85633255 0.86072601 0.8640211  0.86807139 0.88386096\n",
      " 0.88818535 0.89010776 0.88029111 0.88296806 0.8857825  0.8820074\n",
      " 0.87152737 0.87228387 0.86271902 0.87379754 0.86898135 0.86285651\n",
      " 0.87104539 0.84572246 0.81283009 0.82170728 0.84682322 0.84049238\n",
      " 0.81874868 0.83147802 0.84235009 0.864027   0.8619623  0.87820192\n",
      " 0.87723864 0.8793027  0.86162722 0.86555226 0.86286635 0.8657586\n",
      " 0.86396821 0.87512345 0.88345485 0.88386796 0.88985902 0.88118292\n",
      " 0.90087481 0.90920708 0.91099725 0.91092796 0.92642135 0.92655862\n",
      " 0.92717852 0.9280736  0.93330641 0.9345462  0.94988811 0.9521644\n",
      " 0.94567957 0.93788522 0.93457395 0.94243737 0.95582038 0.95968334\n",
      " 0.96347811 0.96347811 0.95685535 0.93788522 0.91932886 0.92995164\n",
      " 0.93209045 0.95513075 0.94864614 0.94657706 0.94836986 0.96375396\n",
      " 0.96485757 0.97148033 0.97375574 0.97244492 0.98106856 0.98706071\n",
      " 0.99308041 0.99086663 0.99086663 0.99813202 1.         0.98754509\n",
      " 0.94187772 0.93750405 0.92958009 0.91951108 0.90848792 0.89734316\n",
      " 0.88659239 0.87652206 0.86727357 0.85889995 0.85140479 0.84476197\n",
      " 0.83892787 0.83384717 0.82945788 0.82569265]\n",
      "16 day output [[0.82248235]]\n",
      "17 day input [0.85633255 0.86072601 0.8640211  0.86807139 0.88386096 0.88818535\n",
      " 0.89010776 0.88029111 0.88296806 0.8857825  0.8820074  0.87152737\n",
      " 0.87228387 0.86271902 0.87379754 0.86898135 0.86285651 0.87104539\n",
      " 0.84572246 0.81283009 0.82170728 0.84682322 0.84049238 0.81874868\n",
      " 0.83147802 0.84235009 0.864027   0.8619623  0.87820192 0.87723864\n",
      " 0.8793027  0.86162722 0.86555226 0.86286635 0.8657586  0.86396821\n",
      " 0.87512345 0.88345485 0.88386796 0.88985902 0.88118292 0.90087481\n",
      " 0.90920708 0.91099725 0.91092796 0.92642135 0.92655862 0.92717852\n",
      " 0.9280736  0.93330641 0.9345462  0.94988811 0.9521644  0.94567957\n",
      " 0.93788522 0.93457395 0.94243737 0.95582038 0.95968334 0.96347811\n",
      " 0.96347811 0.95685535 0.93788522 0.91932886 0.92995164 0.93209045\n",
      " 0.95513075 0.94864614 0.94657706 0.94836986 0.96375396 0.96485757\n",
      " 0.97148033 0.97375574 0.97244492 0.98106856 0.98706071 0.99308041\n",
      " 0.99086663 0.99086663 0.99813202 1.         0.98754509 0.94187772\n",
      " 0.93750405 0.92958009 0.91951108 0.90848792 0.89734316 0.88659239\n",
      " 0.87652206 0.86727357 0.85889995 0.85140479 0.84476197 0.83892787\n",
      " 0.83384717 0.82945788 0.82569265 0.82248235]\n",
      "17 day output [[0.81975746]]\n",
      "18 day input [0.86072601 0.8640211  0.86807139 0.88386096 0.88818535 0.89010776\n",
      " 0.88029111 0.88296806 0.8857825  0.8820074  0.87152737 0.87228387\n",
      " 0.86271902 0.87379754 0.86898135 0.86285651 0.87104539 0.84572246\n",
      " 0.81283009 0.82170728 0.84682322 0.84049238 0.81874868 0.83147802\n",
      " 0.84235009 0.864027   0.8619623  0.87820192 0.87723864 0.8793027\n",
      " 0.86162722 0.86555226 0.86286635 0.8657586  0.86396821 0.87512345\n",
      " 0.88345485 0.88386796 0.88985902 0.88118292 0.90087481 0.90920708\n",
      " 0.91099725 0.91092796 0.92642135 0.92655862 0.92717852 0.9280736\n",
      " 0.93330641 0.9345462  0.94988811 0.9521644  0.94567957 0.93788522\n",
      " 0.93457395 0.94243737 0.95582038 0.95968334 0.96347811 0.96347811\n",
      " 0.95685535 0.93788522 0.91932886 0.92995164 0.93209045 0.95513075\n",
      " 0.94864614 0.94657706 0.94836986 0.96375396 0.96485757 0.97148033\n",
      " 0.97375574 0.97244492 0.98106856 0.98706071 0.99308041 0.99086663\n",
      " 0.99086663 0.99813202 1.         0.98754509 0.94187772 0.93750405\n",
      " 0.92958009 0.91951108 0.90848792 0.89734316 0.88659239 0.87652206\n",
      " 0.86727357 0.85889995 0.85140479 0.84476197 0.83892787 0.83384717\n",
      " 0.82945788 0.82569265 0.82248235 0.81975746]\n",
      "18 day output [[0.8174499]]\n",
      "19 day input [0.8640211  0.86807139 0.88386096 0.88818535 0.89010776 0.88029111\n",
      " 0.88296806 0.8857825  0.8820074  0.87152737 0.87228387 0.86271902\n",
      " 0.87379754 0.86898135 0.86285651 0.87104539 0.84572246 0.81283009\n",
      " 0.82170728 0.84682322 0.84049238 0.81874868 0.83147802 0.84235009\n",
      " 0.864027   0.8619623  0.87820192 0.87723864 0.8793027  0.86162722\n",
      " 0.86555226 0.86286635 0.8657586  0.86396821 0.87512345 0.88345485\n",
      " 0.88386796 0.88985902 0.88118292 0.90087481 0.90920708 0.91099725\n",
      " 0.91092796 0.92642135 0.92655862 0.92717852 0.9280736  0.93330641\n",
      " 0.9345462  0.94988811 0.9521644  0.94567957 0.93788522 0.93457395\n",
      " 0.94243737 0.95582038 0.95968334 0.96347811 0.96347811 0.95685535\n",
      " 0.93788522 0.91932886 0.92995164 0.93209045 0.95513075 0.94864614\n",
      " 0.94657706 0.94836986 0.96375396 0.96485757 0.97148033 0.97375574\n",
      " 0.97244492 0.98106856 0.98706071 0.99308041 0.99086663 0.99086663\n",
      " 0.99813202 1.         0.98754509 0.94187772 0.93750405 0.92958009\n",
      " 0.91951108 0.90848792 0.89734316 0.88659239 0.87652206 0.86727357\n",
      " 0.85889995 0.85140479 0.84476197 0.83892787 0.83384717 0.82945788\n",
      " 0.82569265 0.82248235 0.81975746 0.81744993]\n",
      "19 day output [[0.815495]]\n",
      "20 day input [0.86807139 0.88386096 0.88818535 0.89010776 0.88029111 0.88296806\n",
      " 0.8857825  0.8820074  0.87152737 0.87228387 0.86271902 0.87379754\n",
      " 0.86898135 0.86285651 0.87104539 0.84572246 0.81283009 0.82170728\n",
      " 0.84682322 0.84049238 0.81874868 0.83147802 0.84235009 0.864027\n",
      " 0.8619623  0.87820192 0.87723864 0.8793027  0.86162722 0.86555226\n",
      " 0.86286635 0.8657586  0.86396821 0.87512345 0.88345485 0.88386796\n",
      " 0.88985902 0.88118292 0.90087481 0.90920708 0.91099725 0.91092796\n",
      " 0.92642135 0.92655862 0.92717852 0.9280736  0.93330641 0.9345462\n",
      " 0.94988811 0.9521644  0.94567957 0.93788522 0.93457395 0.94243737\n",
      " 0.95582038 0.95968334 0.96347811 0.96347811 0.95685535 0.93788522\n",
      " 0.91932886 0.92995164 0.93209045 0.95513075 0.94864614 0.94657706\n",
      " 0.94836986 0.96375396 0.96485757 0.97148033 0.97375574 0.97244492\n",
      " 0.98106856 0.98706071 0.99308041 0.99086663 0.99086663 0.99813202\n",
      " 1.         0.98754509 0.94187772 0.93750405 0.92958009 0.91951108\n",
      " 0.90848792 0.89734316 0.88659239 0.87652206 0.86727357 0.85889995\n",
      " 0.85140479 0.84476197 0.83892787 0.83384717 0.82945788 0.82569265\n",
      " 0.82248235 0.81975746 0.81744993 0.81549501]\n",
      "20 day output [[0.8138319]]\n",
      "21 day input [0.88386096 0.88818535 0.89010776 0.88029111 0.88296806 0.8857825\n",
      " 0.8820074  0.87152737 0.87228387 0.86271902 0.87379754 0.86898135\n",
      " 0.86285651 0.87104539 0.84572246 0.81283009 0.82170728 0.84682322\n",
      " 0.84049238 0.81874868 0.83147802 0.84235009 0.864027   0.8619623\n",
      " 0.87820192 0.87723864 0.8793027  0.86162722 0.86555226 0.86286635\n",
      " 0.8657586  0.86396821 0.87512345 0.88345485 0.88386796 0.88985902\n",
      " 0.88118292 0.90087481 0.90920708 0.91099725 0.91092796 0.92642135\n",
      " 0.92655862 0.92717852 0.9280736  0.93330641 0.9345462  0.94988811\n",
      " 0.9521644  0.94567957 0.93788522 0.93457395 0.94243737 0.95582038\n",
      " 0.95968334 0.96347811 0.96347811 0.95685535 0.93788522 0.91932886\n",
      " 0.92995164 0.93209045 0.95513075 0.94864614 0.94657706 0.94836986\n",
      " 0.96375396 0.96485757 0.97148033 0.97375574 0.97244492 0.98106856\n",
      " 0.98706071 0.99308041 0.99086663 0.99086663 0.99813202 1.\n",
      " 0.98754509 0.94187772 0.93750405 0.92958009 0.91951108 0.90848792\n",
      " 0.89734316 0.88659239 0.87652206 0.86727357 0.85889995 0.85140479\n",
      " 0.84476197 0.83892787 0.83384717 0.82945788 0.82569265 0.82248235\n",
      " 0.81975746 0.81744993 0.81549501 0.81383193]\n",
      "21 day output [[0.81240594]]\n",
      "22 day input [0.88818535 0.89010776 0.88029111 0.88296806 0.8857825  0.8820074\n",
      " 0.87152737 0.87228387 0.86271902 0.87379754 0.86898135 0.86285651\n",
      " 0.87104539 0.84572246 0.81283009 0.82170728 0.84682322 0.84049238\n",
      " 0.81874868 0.83147802 0.84235009 0.864027   0.8619623  0.87820192\n",
      " 0.87723864 0.8793027  0.86162722 0.86555226 0.86286635 0.8657586\n",
      " 0.86396821 0.87512345 0.88345485 0.88386796 0.88985902 0.88118292\n",
      " 0.90087481 0.90920708 0.91099725 0.91092796 0.92642135 0.92655862\n",
      " 0.92717852 0.9280736  0.93330641 0.9345462  0.94988811 0.9521644\n",
      " 0.94567957 0.93788522 0.93457395 0.94243737 0.95582038 0.95968334\n",
      " 0.96347811 0.96347811 0.95685535 0.93788522 0.91932886 0.92995164\n",
      " 0.93209045 0.95513075 0.94864614 0.94657706 0.94836986 0.96375396\n",
      " 0.96485757 0.97148033 0.97375574 0.97244492 0.98106856 0.98706071\n",
      " 0.99308041 0.99086663 0.99086663 0.99813202 1.         0.98754509\n",
      " 0.94187772 0.93750405 0.92958009 0.91951108 0.90848792 0.89734316\n",
      " 0.88659239 0.87652206 0.86727357 0.85889995 0.85140479 0.84476197\n",
      " 0.83892787 0.83384717 0.82945788 0.82569265 0.82248235 0.81975746\n",
      " 0.81744993 0.81549501 0.81383193 0.81240594]\n"
     ]
    },
    {
     "name": "stdout",
     "output_type": "stream",
     "text": [
      "22 day output [[0.81116736]]\n",
      "23 day input [0.89010776 0.88029111 0.88296806 0.8857825  0.8820074  0.87152737\n",
      " 0.87228387 0.86271902 0.87379754 0.86898135 0.86285651 0.87104539\n",
      " 0.84572246 0.81283009 0.82170728 0.84682322 0.84049238 0.81874868\n",
      " 0.83147802 0.84235009 0.864027   0.8619623  0.87820192 0.87723864\n",
      " 0.8793027  0.86162722 0.86555226 0.86286635 0.8657586  0.86396821\n",
      " 0.87512345 0.88345485 0.88386796 0.88985902 0.88118292 0.90087481\n",
      " 0.90920708 0.91099725 0.91092796 0.92642135 0.92655862 0.92717852\n",
      " 0.9280736  0.93330641 0.9345462  0.94988811 0.9521644  0.94567957\n",
      " 0.93788522 0.93457395 0.94243737 0.95582038 0.95968334 0.96347811\n",
      " 0.96347811 0.95685535 0.93788522 0.91932886 0.92995164 0.93209045\n",
      " 0.95513075 0.94864614 0.94657706 0.94836986 0.96375396 0.96485757\n",
      " 0.97148033 0.97375574 0.97244492 0.98106856 0.98706071 0.99308041\n",
      " 0.99086663 0.99086663 0.99813202 1.         0.98754509 0.94187772\n",
      " 0.93750405 0.92958009 0.91951108 0.90848792 0.89734316 0.88659239\n",
      " 0.87652206 0.86727357 0.85889995 0.85140479 0.84476197 0.83892787\n",
      " 0.83384717 0.82945788 0.82569265 0.82248235 0.81975746 0.81744993\n",
      " 0.81549501 0.81383193 0.81240594 0.81116736]\n",
      "23 day output [[0.8100729]]\n",
      "24 day input [0.88029111 0.88296806 0.8857825  0.8820074  0.87152737 0.87228387\n",
      " 0.86271902 0.87379754 0.86898135 0.86285651 0.87104539 0.84572246\n",
      " 0.81283009 0.82170728 0.84682322 0.84049238 0.81874868 0.83147802\n",
      " 0.84235009 0.864027   0.8619623  0.87820192 0.87723864 0.8793027\n",
      " 0.86162722 0.86555226 0.86286635 0.8657586  0.86396821 0.87512345\n",
      " 0.88345485 0.88386796 0.88985902 0.88118292 0.90087481 0.90920708\n",
      " 0.91099725 0.91092796 0.92642135 0.92655862 0.92717852 0.9280736\n",
      " 0.93330641 0.9345462  0.94988811 0.9521644  0.94567957 0.93788522\n",
      " 0.93457395 0.94243737 0.95582038 0.95968334 0.96347811 0.96347811\n",
      " 0.95685535 0.93788522 0.91932886 0.92995164 0.93209045 0.95513075\n",
      " 0.94864614 0.94657706 0.94836986 0.96375396 0.96485757 0.97148033\n",
      " 0.97375574 0.97244492 0.98106856 0.98706071 0.99308041 0.99086663\n",
      " 0.99086663 0.99813202 1.         0.98754509 0.94187772 0.93750405\n",
      " 0.92958009 0.91951108 0.90848792 0.89734316 0.88659239 0.87652206\n",
      " 0.86727357 0.85889995 0.85140479 0.84476197 0.83892787 0.83384717\n",
      " 0.82945788 0.82569265 0.82248235 0.81975746 0.81744993 0.81549501\n",
      " 0.81383193 0.81240594 0.81116736 0.8100729 ]\n",
      "24 day output [[0.8090855]]\n",
      "25 day input [0.88296806 0.8857825  0.8820074  0.87152737 0.87228387 0.86271902\n",
      " 0.87379754 0.86898135 0.86285651 0.87104539 0.84572246 0.81283009\n",
      " 0.82170728 0.84682322 0.84049238 0.81874868 0.83147802 0.84235009\n",
      " 0.864027   0.8619623  0.87820192 0.87723864 0.8793027  0.86162722\n",
      " 0.86555226 0.86286635 0.8657586  0.86396821 0.87512345 0.88345485\n",
      " 0.88386796 0.88985902 0.88118292 0.90087481 0.90920708 0.91099725\n",
      " 0.91092796 0.92642135 0.92655862 0.92717852 0.9280736  0.93330641\n",
      " 0.9345462  0.94988811 0.9521644  0.94567957 0.93788522 0.93457395\n",
      " 0.94243737 0.95582038 0.95968334 0.96347811 0.96347811 0.95685535\n",
      " 0.93788522 0.91932886 0.92995164 0.93209045 0.95513075 0.94864614\n",
      " 0.94657706 0.94836986 0.96375396 0.96485757 0.97148033 0.97375574\n",
      " 0.97244492 0.98106856 0.98706071 0.99308041 0.99086663 0.99086663\n",
      " 0.99813202 1.         0.98754509 0.94187772 0.93750405 0.92958009\n",
      " 0.91951108 0.90848792 0.89734316 0.88659239 0.87652206 0.86727357\n",
      " 0.85889995 0.85140479 0.84476197 0.83892787 0.83384717 0.82945788\n",
      " 0.82569265 0.82248235 0.81975746 0.81744993 0.81549501 0.81383193\n",
      " 0.81240594 0.81116736 0.8100729  0.80908549]\n",
      "25 day output [[0.80817413]]\n",
      "26 day input [0.8857825  0.8820074  0.87152737 0.87228387 0.86271902 0.87379754\n",
      " 0.86898135 0.86285651 0.87104539 0.84572246 0.81283009 0.82170728\n",
      " 0.84682322 0.84049238 0.81874868 0.83147802 0.84235009 0.864027\n",
      " 0.8619623  0.87820192 0.87723864 0.8793027  0.86162722 0.86555226\n",
      " 0.86286635 0.8657586  0.86396821 0.87512345 0.88345485 0.88386796\n",
      " 0.88985902 0.88118292 0.90087481 0.90920708 0.91099725 0.91092796\n",
      " 0.92642135 0.92655862 0.92717852 0.9280736  0.93330641 0.9345462\n",
      " 0.94988811 0.9521644  0.94567957 0.93788522 0.93457395 0.94243737\n",
      " 0.95582038 0.95968334 0.96347811 0.96347811 0.95685535 0.93788522\n",
      " 0.91932886 0.92995164 0.93209045 0.95513075 0.94864614 0.94657706\n",
      " 0.94836986 0.96375396 0.96485757 0.97148033 0.97375574 0.97244492\n",
      " 0.98106856 0.98706071 0.99308041 0.99086663 0.99086663 0.99813202\n",
      " 1.         0.98754509 0.94187772 0.93750405 0.92958009 0.91951108\n",
      " 0.90848792 0.89734316 0.88659239 0.87652206 0.86727357 0.85889995\n",
      " 0.85140479 0.84476197 0.83892787 0.83384717 0.82945788 0.82569265\n",
      " 0.82248235 0.81975746 0.81744993 0.81549501 0.81383193 0.81240594\n",
      " 0.81116736 0.8100729  0.80908549 0.80817413]\n",
      "26 day output [[0.80731404]]\n",
      "27 day input [0.8820074  0.87152737 0.87228387 0.86271902 0.87379754 0.86898135\n",
      " 0.86285651 0.87104539 0.84572246 0.81283009 0.82170728 0.84682322\n",
      " 0.84049238 0.81874868 0.83147802 0.84235009 0.864027   0.8619623\n",
      " 0.87820192 0.87723864 0.8793027  0.86162722 0.86555226 0.86286635\n",
      " 0.8657586  0.86396821 0.87512345 0.88345485 0.88386796 0.88985902\n",
      " 0.88118292 0.90087481 0.90920708 0.91099725 0.91092796 0.92642135\n",
      " 0.92655862 0.92717852 0.9280736  0.93330641 0.9345462  0.94988811\n",
      " 0.9521644  0.94567957 0.93788522 0.93457395 0.94243737 0.95582038\n",
      " 0.95968334 0.96347811 0.96347811 0.95685535 0.93788522 0.91932886\n",
      " 0.92995164 0.93209045 0.95513075 0.94864614 0.94657706 0.94836986\n",
      " 0.96375396 0.96485757 0.97148033 0.97375574 0.97244492 0.98106856\n",
      " 0.98706071 0.99308041 0.99086663 0.99086663 0.99813202 1.\n",
      " 0.98754509 0.94187772 0.93750405 0.92958009 0.91951108 0.90848792\n",
      " 0.89734316 0.88659239 0.87652206 0.86727357 0.85889995 0.85140479\n",
      " 0.84476197 0.83892787 0.83384717 0.82945788 0.82569265 0.82248235\n",
      " 0.81975746 0.81744993 0.81549501 0.81383193 0.81240594 0.81116736\n",
      " 0.8100729  0.80908549 0.80817413 0.80731404]\n",
      "27 day output [[0.8064854]]\n",
      "28 day input [0.87152737 0.87228387 0.86271902 0.87379754 0.86898135 0.86285651\n",
      " 0.87104539 0.84572246 0.81283009 0.82170728 0.84682322 0.84049238\n",
      " 0.81874868 0.83147802 0.84235009 0.864027   0.8619623  0.87820192\n",
      " 0.87723864 0.8793027  0.86162722 0.86555226 0.86286635 0.8657586\n",
      " 0.86396821 0.87512345 0.88345485 0.88386796 0.88985902 0.88118292\n",
      " 0.90087481 0.90920708 0.91099725 0.91092796 0.92642135 0.92655862\n",
      " 0.92717852 0.9280736  0.93330641 0.9345462  0.94988811 0.9521644\n",
      " 0.94567957 0.93788522 0.93457395 0.94243737 0.95582038 0.95968334\n",
      " 0.96347811 0.96347811 0.95685535 0.93788522 0.91932886 0.92995164\n",
      " 0.93209045 0.95513075 0.94864614 0.94657706 0.94836986 0.96375396\n",
      " 0.96485757 0.97148033 0.97375574 0.97244492 0.98106856 0.98706071\n",
      " 0.99308041 0.99086663 0.99086663 0.99813202 1.         0.98754509\n",
      " 0.94187772 0.93750405 0.92958009 0.91951108 0.90848792 0.89734316\n",
      " 0.88659239 0.87652206 0.86727357 0.85889995 0.85140479 0.84476197\n",
      " 0.83892787 0.83384717 0.82945788 0.82569265 0.82248235 0.81975746\n",
      " 0.81744993 0.81549501 0.81383193 0.81240594 0.81116736 0.8100729\n",
      " 0.80908549 0.80817413 0.80731404 0.80648541]\n",
      "28 day output [[0.8056731]]\n",
      "29 day input [0.87228387 0.86271902 0.87379754 0.86898135 0.86285651 0.87104539\n",
      " 0.84572246 0.81283009 0.82170728 0.84682322 0.84049238 0.81874868\n",
      " 0.83147802 0.84235009 0.864027   0.8619623  0.87820192 0.87723864\n",
      " 0.8793027  0.86162722 0.86555226 0.86286635 0.8657586  0.86396821\n",
      " 0.87512345 0.88345485 0.88386796 0.88985902 0.88118292 0.90087481\n",
      " 0.90920708 0.91099725 0.91092796 0.92642135 0.92655862 0.92717852\n",
      " 0.9280736  0.93330641 0.9345462  0.94988811 0.9521644  0.94567957\n",
      " 0.93788522 0.93457395 0.94243737 0.95582038 0.95968334 0.96347811\n",
      " 0.96347811 0.95685535 0.93788522 0.91932886 0.92995164 0.93209045\n",
      " 0.95513075 0.94864614 0.94657706 0.94836986 0.96375396 0.96485757\n",
      " 0.97148033 0.97375574 0.97244492 0.98106856 0.98706071 0.99308041\n",
      " 0.99086663 0.99086663 0.99813202 1.         0.98754509 0.94187772\n",
      " 0.93750405 0.92958009 0.91951108 0.90848792 0.89734316 0.88659239\n",
      " 0.87652206 0.86727357 0.85889995 0.85140479 0.84476197 0.83892787\n",
      " 0.83384717 0.82945788 0.82569265 0.82248235 0.81975746 0.81744993\n",
      " 0.81549501 0.81383193 0.81240594 0.81116736 0.8100729  0.80908549\n",
      " 0.80817413 0.80731404 0.80648541 0.80567312]\n",
      "29 day output [[0.80486655]]\n",
      "[[0.9418777227401733], [0.9375040531158447], [0.9295800924301147], [0.919511079788208], [0.9084879159927368], [0.8973431587219238], [0.8865923881530762], [0.8765220642089844], [0.8672735691070557], [0.8588999509811401], [0.8514047861099243], [0.8447619676589966], [0.8389278650283813], [0.833847165107727], [0.8294578790664673], [0.8256926536560059], [0.8224823474884033], [0.8197574615478516], [0.8174499273300171], [0.8154950141906738], [0.8138319253921509], [0.8124059438705444], [0.8111673593521118], [0.8100728988647461], [0.809085488319397], [0.8081741333007812], [0.8073140382766724], [0.8064854145050049], [0.8056731224060059], [0.8048665523529053]]\n"
     ]
    }
   ],
   "source": [
    "# prediction for next 10 days\n",
    "from numpy import array\n",
    "\n",
    "lst_output=[]\n",
    "n_steps=100\n",
    "i=0\n",
    "while(i<30):\n",
    "    \n",
    "    if(len(temp_input)>100):\n",
    "        x_input=np.array(temp_input[1:])\n",
    "        print(\"{} day input {}\".format(i,x_input))\n",
    "        x_input=x_input.reshape(1,-1)\n",
    "        x_input = x_input.reshape((1, n_steps, 1))\n",
    "        #print(x_input)\n",
    "        yhat = model.predict(x_input, verbose=0)\n",
    "        print(\"{} day output {}\".format(i,yhat))\n",
    "        temp_input.extend(yhat[0].tolist())\n",
    "        temp_input=temp_input[1:]\n",
    "        #print(temp_input)\n",
    "        lst_output.extend(yhat.tolist())\n",
    "        i=i+1\n",
    "    else:\n",
    "        x_input = x_input.reshape((1, n_steps,1))\n",
    "        yhat = model.predict(x_input, verbose=0)\n",
    "        print(yhat[0])\n",
    "        temp_input.extend(yhat[0].tolist())\n",
    "        print(len(temp_input))\n",
    "        lst_output.extend(yhat.tolist())\n",
    "        i=i+1\n",
    "    \n",
    "\n",
    "print(lst_output)"
   ]
  },
  {
   "cell_type": "code",
   "execution_count": 47,
   "id": "199e80b8",
   "metadata": {},
   "outputs": [],
   "source": [
    "day_new=np.arange(1,101)\n",
    "day_pred=np.arange(101,131)"
   ]
  },
  {
   "cell_type": "code",
   "execution_count": 48,
   "id": "be044624",
   "metadata": {},
   "outputs": [
    {
     "data": {
      "text/plain": [
       "1302"
      ]
     },
     "execution_count": 48,
     "metadata": {},
     "output_type": "execute_result"
    }
   ],
   "source": [
    "len(y)"
   ]
  },
  {
   "cell_type": "code",
   "execution_count": 49,
   "id": "b80bd0df",
   "metadata": {},
   "outputs": [
    {
     "data": {
      "text/plain": [
       "[<matplotlib.lines.Line2D at 0x20ebfee06d0>]"
      ]
     },
     "execution_count": 49,
     "metadata": {},
     "output_type": "execute_result"
    },
    {
     "data": {
      "image/png": "[encoded data removed]",
      "text/plain": [
       "<Figure size 432x288 with 1 Axes>"
      ]
     },
     "metadata": {
      "needs_background": "light"
     },
     "output_type": "display_data"
    }
   ],
   "source": [
    "plt.plot(day_new,scaler.inverse_transform(y[1202:]))\n",
    "plt.plot(day_pred,scaler.inverse_transform(lst_output))"
   ]
  },
  {
   "cell_type": "code",
   "execution_count": 50,
   "id": "d988ee34",
   "metadata": {},
   "outputs": [
    {
     "data": {
      "text/plain": [
       "[<matplotlib.lines.Line2D at 0x20ebfed8460>]"
      ]
     },
     "execution_count": 50,
     "metadata": {},
     "output_type": "execute_result"
    },
    {
     "data": {
      "image/png": "[encoded data removed]",
      "text/plain": [
       "<Figure size 432x288 with 1 Axes>"
      ]
     },
     "metadata": {
      "needs_background": "light"
     },
     "output_type": "display_data"
    }
   ],
   "source": [
    "z=y.tolist()\n",
    "z.extend(lst_output)\n",
    "plt.plot(z[1202:])"
   ]
  },
  {
   "cell_type": "code",
   "execution_count": 51,
   "id": "f1af9a0d",
   "metadata": {},
   "outputs": [],
   "source": [
    "z=scaler.inverse_transform(z).tolist()"
   ]
  },
  {
   "cell_type": "code",
   "execution_count": 52,
   "id": "97abfc10",
   "metadata": {
    "scrolled": true
   },
   "outputs": [
    {
     "data": {
      "text/plain": [
       "[<matplotlib.lines.Line2D at 0x20ebff9f7f0>]"
      ]
     },
     "execution_count": 52,
     "metadata": {},
     "output_type": "execute_result"
    },
    {
     "data": {
      "image/png": "[encoded data removed]",
      "text/plain": [
       "<Figure size 432x288 with 1 Axes>"
      ]
     },
     "metadata": {
      "needs_background": "light"
     },
     "output_type": "display_data"
    }
   ],
   "source": [
    "plt.plot(z)"
   ]
  },
  {
   "cell_type": "markdown",
   "id": "dac28abd",
   "metadata": {},
   "source": [
    "### 4. Conclusion"
   ]
  },
  {
   "cell_type": "markdown",
   "id": "a7ac50fd",
   "metadata": {},
   "source": [
    "We used both the ARIMA model and LSTM model to try to predict future stock price of DIA (SPDR Dow Jones Industrial Average ETF Trust). A lot of people wants to be able to predict the stock prices, but stock prices are very hard/almost impossible to predict. ARIMA model is better short term forecasting, while LSTM is better for long term modeling. Making better models for DIA are beyond the scope of this capstone and require more knowledge and skills which I would acquire as time goes on. For businesses, picking ARIMA vs LSTM is cost vs benefit. LSTM gives better prediction result, but at the cost of more complexity. The best ARIMA we got for DIA is ARIMA(0, 1, 0) because it had the lowest MSE, meaning that DIA is a random walk. This goes in line with the Random Walk theory and the Efficient Market Hypothesis. The LSTM model was able to predict the general trend of which way DIA was going, but I would say the LSTM model we used for this project is unreliable and should not be used to decide when to pick and sell stocks. There maybe a better model out there that might be able to predict the prices of DIA, but that is beyond the scope of this project."
   ]
  },
  {
   "cell_type": "markdown",
   "id": "c00b41a3",
   "metadata": {},
   "source": [
    "resources:\n",
    "* https://github.com/krishnaik06/Stock-MArket-Forecasting/blob/master/Untitled.ipynb\n",
    "* https://machinelearningmastery.com/grid-search-arima-hyperparameters-with-python/\n",
    "* https://datascience.stackexchange.com/questions/12721/time-series-prediction-using-arima-vs-lstm\n",
    "* https://www.researchgate.net/publication/339600773_Forecasting_Financial_Budget_Time_Series_ARIMA_Random_Walk_vs_LSTM_Neural_Network\n",
    "* https://www.investopedia.com/terms/r/randomwalktheory.asp"
   ]
  }
 ],
 "metadata": {
  "kernelspec": {
   "display_name": "Python 3",
   "language": "python",
   "name": "python3"
  },
  "language_info": {
   "codemirror_mode": {
    "name": "ipython",
    "version": 3
   },
   "file_extension": ".py",
   "mimetype": "text/x-python",
   "name": "python",
   "nbconvert_exporter": "python",
   "pygments_lexer": "ipython3",
   "version": "3.8.8"
  }
 },
 "nbformat": 4,
 "nbformat_minor": 5
}
