{
 "cells": [
  {
   "cell_type": "markdown",
   "id": "3f808864",
   "metadata": {},
   "source": [
    "# Preprocessing"
   ]
  },
  {
   "cell_type": "markdown",
   "id": "34caa933",
   "metadata": {},
   "source": [
    "## Import Packages"
   ]
  },
  {
   "cell_type": "code",
   "execution_count": 1,
   "id": "647500ff",
   "metadata": {},
   "outputs": [],
   "source": [
    "import matplotlib.pyplot as plt\n",
    "import pandas as pd\n",
    "import numpy as np\n",
    "import seaborn as sns\n",
    "from sklearn.preprocessing import MinMaxScaler\n",
    "import plotly.express as px\n",
    "import plotly.graph_objects as go\n",
    "from plotly.subplots import make_subplots\n",
    "from statsmodels.graphics import tsaplots\n",
    "from tensorflow.keras.models import Sequential\n",
    "from tensorflow.keras.layers import Dense, Dropout, LSTM\n",
    "from tensorflow.keras.callbacks import ModelCheckpoint, EarlyStopping\n",
    "from sklearn.metrics import mean_squared_error\n",
    "from statsmodels.tsa.arima_model import ARIMA"
   ]
  },
  {
   "cell_type": "markdown",
   "id": "76fe6815",
   "metadata": {},
   "source": [
    "## Loading Data"
   ]
  },
  {
   "cell_type": "code",
   "execution_count": 2,
   "id": "841ddb2a",
   "metadata": {
    "scrolled": true
   },
   "outputs": [],
   "source": [
    "DIA= pd.read_csv('DIA (2).csv', index_col='Date', parse_dates=['Date'])"
   ]
  },
  {
   "cell_type": "markdown",
   "id": "0da8a72b",
   "metadata": {},
   "source": [
    "# Exploring the Data"
   ]
  },
  {
   "cell_type": "code",
   "execution_count": 3,
   "id": "efdd08d9",
   "metadata": {
    "scrolled": true
   },
   "outputs": [
    {
     "data": {
      "text/html": [
       "<div>\n",
       "<style scoped>\n",
       "    .dataframe tbody tr th:only-of-type {\n",
       "        vertical-align: middle;\n",
       "    }\n",
       "\n",
       "    .dataframe tbody tr th {\n",
       "        vertical-align: top;\n",
       "    }\n",
       "\n",
       "    .dataframe thead th {\n",
       "        text-align: right;\n",
       "    }\n",
       "</style>\n",
       "<table border=\"1\" class=\"dataframe\">\n",
       "  <thead>\n",
       "    <tr style=\"text-align: right;\">\n",
       "      <th></th>\n",
       "      <th>Open</th>\n",
       "      <th>High</th>\n",
       "      <th>Low</th>\n",
       "      <th>Close</th>\n",
       "      <th>Adj Close</th>\n",
       "      <th>Volume</th>\n",
       "    </tr>\n",
       "    <tr>\n",
       "      <th>Date</th>\n",
       "      <th></th>\n",
       "      <th></th>\n",
       "      <th></th>\n",
       "      <th></th>\n",
       "      <th></th>\n",
       "      <th></th>\n",
       "    </tr>\n",
       "  </thead>\n",
       "  <tbody>\n",
       "    <tr>\n",
       "      <th>2000-01-03</th>\n",
       "      <td>116.03125</td>\n",
       "      <td>116.031250</td>\n",
       "      <td>113.000000</td>\n",
       "      <td>113.500000</td>\n",
       "      <td>70.035995</td>\n",
       "      <td>1278800</td>\n",
       "    </tr>\n",
       "    <tr>\n",
       "      <th>2000-01-04</th>\n",
       "      <td>112.28125</td>\n",
       "      <td>112.968750</td>\n",
       "      <td>109.765625</td>\n",
       "      <td>109.765625</td>\n",
       "      <td>67.731735</td>\n",
       "      <td>1535700</td>\n",
       "    </tr>\n",
       "    <tr>\n",
       "      <th>2000-01-05</th>\n",
       "      <td>110.00000</td>\n",
       "      <td>112.375000</td>\n",
       "      <td>109.031250</td>\n",
       "      <td>111.187500</td>\n",
       "      <td>68.609116</td>\n",
       "      <td>2007000</td>\n",
       "    </tr>\n",
       "    <tr>\n",
       "      <th>2000-01-06</th>\n",
       "      <td>111.40625</td>\n",
       "      <td>113.171875</td>\n",
       "      <td>111.187500</td>\n",
       "      <td>111.750000</td>\n",
       "      <td>68.956184</td>\n",
       "      <td>2639500</td>\n",
       "    </tr>\n",
       "    <tr>\n",
       "      <th>2000-01-07</th>\n",
       "      <td>113.31250</td>\n",
       "      <td>115.562500</td>\n",
       "      <td>113.218750</td>\n",
       "      <td>115.500000</td>\n",
       "      <td>71.270126</td>\n",
       "      <td>3767400</td>\n",
       "    </tr>\n",
       "  </tbody>\n",
       "</table>\n",
       "</div>"
      ],
      "text/plain": [
       "                 Open        High         Low       Close  Adj Close   Volume\n",
       "Date                                                                         \n",
       "2000-01-03  116.03125  116.031250  113.000000  113.500000  70.035995  1278800\n",
       "2000-01-04  112.28125  112.968750  109.765625  109.765625  67.731735  1535700\n",
       "2000-01-05  110.00000  112.375000  109.031250  111.187500  68.609116  2007000\n",
       "2000-01-06  111.40625  113.171875  111.187500  111.750000  68.956184  2639500\n",
       "2000-01-07  113.31250  115.562500  113.218750  115.500000  71.270126  3767400"
      ]
     },
     "execution_count": 3,
     "metadata": {},
     "output_type": "execute_result"
    }
   ],
   "source": [
    "DIA.head()"
   ]
  },
  {
   "cell_type": "code",
   "execution_count": 4,
   "id": "08098419",
   "metadata": {
    "scrolled": true
   },
   "outputs": [
    {
     "name": "stdout",
     "output_type": "stream",
     "text": [
      "<class 'pandas.core.frame.DataFrame'>\n",
      "DatetimeIndex: 5030 entries, 2000-01-03 to 2019-12-30\n",
      "Data columns (total 6 columns):\n",
      " #   Column     Non-Null Count  Dtype  \n",
      "---  ------     --------------  -----  \n",
      " 0   Open       5030 non-null   float64\n",
      " 1   High       5030 non-null   float64\n",
      " 2   Low        5030 non-null   float64\n",
      " 3   Close      5030 non-null   float64\n",
      " 4   Adj Close  5030 non-null   float64\n",
      " 5   Volume     5030 non-null   int64  \n",
      "dtypes: float64(5), int64(1)\n",
      "memory usage: 275.1 KB\n"
     ]
    }
   ],
   "source": [
    "DIA.info()"
   ]
  },
  {
   "cell_type": "markdown",
   "id": "e666a1b6",
   "metadata": {},
   "source": [
    "## Preprocessing"
   ]
  },
  {
   "cell_type": "code",
   "execution_count": 5,
   "id": "5ea390b4",
   "metadata": {},
   "outputs": [
    {
     "data": {
      "text/plain": [
       "Open         0\n",
       "High         0\n",
       "Low          0\n",
       "Close        0\n",
       "Adj Close    0\n",
       "Volume       0\n",
       "dtype: int64"
      ]
     },
     "execution_count": 5,
     "metadata": {},
     "output_type": "execute_result"
    }
   ],
   "source": [
    "DIA.isna().sum()"
   ]
  },
  {
   "cell_type": "code",
   "execution_count": 6,
   "id": "e8d522dd",
   "metadata": {
    "scrolled": true
   },
   "outputs": [
    {
     "data": {
      "text/html": [
       "<div>\n",
       "<style scoped>\n",
       "    .dataframe tbody tr th:only-of-type {\n",
       "        vertical-align: middle;\n",
       "    }\n",
       "\n",
       "    .dataframe tbody tr th {\n",
       "        vertical-align: top;\n",
       "    }\n",
       "\n",
       "    .dataframe thead th {\n",
       "        text-align: right;\n",
       "    }\n",
       "</style>\n",
       "<table border=\"1\" class=\"dataframe\">\n",
       "  <thead>\n",
       "    <tr style=\"text-align: right;\">\n",
       "      <th></th>\n",
       "      <th>Open</th>\n",
       "      <th>High</th>\n",
       "      <th>Low</th>\n",
       "      <th>Close</th>\n",
       "      <th>Adj Close</th>\n",
       "      <th>Volume</th>\n",
       "    </tr>\n",
       "    <tr>\n",
       "      <th>Date</th>\n",
       "      <th></th>\n",
       "      <th></th>\n",
       "      <th></th>\n",
       "      <th></th>\n",
       "      <th></th>\n",
       "      <th></th>\n",
       "    </tr>\n",
       "  </thead>\n",
       "  <tbody>\n",
       "    <tr>\n",
       "      <th>2000-01-03</th>\n",
       "      <td>116.031250</td>\n",
       "      <td>116.031250</td>\n",
       "      <td>113.000000</td>\n",
       "      <td>113.500000</td>\n",
       "      <td>70.035995</td>\n",
       "      <td>1278800</td>\n",
       "    </tr>\n",
       "    <tr>\n",
       "      <th>2000-01-04</th>\n",
       "      <td>112.281250</td>\n",
       "      <td>112.968750</td>\n",
       "      <td>109.765625</td>\n",
       "      <td>109.765625</td>\n",
       "      <td>67.731735</td>\n",
       "      <td>1535700</td>\n",
       "    </tr>\n",
       "    <tr>\n",
       "      <th>2000-01-05</th>\n",
       "      <td>110.000000</td>\n",
       "      <td>112.375000</td>\n",
       "      <td>109.031250</td>\n",
       "      <td>111.187500</td>\n",
       "      <td>68.609116</td>\n",
       "      <td>2007000</td>\n",
       "    </tr>\n",
       "    <tr>\n",
       "      <th>2000-01-06</th>\n",
       "      <td>111.406250</td>\n",
       "      <td>113.171875</td>\n",
       "      <td>111.187500</td>\n",
       "      <td>111.750000</td>\n",
       "      <td>68.956184</td>\n",
       "      <td>2639500</td>\n",
       "    </tr>\n",
       "    <tr>\n",
       "      <th>2000-01-07</th>\n",
       "      <td>113.312500</td>\n",
       "      <td>115.562500</td>\n",
       "      <td>113.218750</td>\n",
       "      <td>115.500000</td>\n",
       "      <td>71.270126</td>\n",
       "      <td>3767400</td>\n",
       "    </tr>\n",
       "    <tr>\n",
       "      <th>...</th>\n",
       "      <td>...</td>\n",
       "      <td>...</td>\n",
       "      <td>...</td>\n",
       "      <td>...</td>\n",
       "      <td>...</td>\n",
       "      <td>...</td>\n",
       "    </tr>\n",
       "    <tr>\n",
       "      <th>2019-12-23</th>\n",
       "      <td>285.339996</td>\n",
       "      <td>285.660004</td>\n",
       "      <td>285.149994</td>\n",
       "      <td>285.329987</td>\n",
       "      <td>275.649017</td>\n",
       "      <td>2564700</td>\n",
       "    </tr>\n",
       "    <tr>\n",
       "      <th>2019-12-24</th>\n",
       "      <td>285.630005</td>\n",
       "      <td>285.630005</td>\n",
       "      <td>284.869995</td>\n",
       "      <td>285.010010</td>\n",
       "      <td>275.339935</td>\n",
       "      <td>611600</td>\n",
       "    </tr>\n",
       "    <tr>\n",
       "      <th>2019-12-26</th>\n",
       "      <td>285.230011</td>\n",
       "      <td>286.100006</td>\n",
       "      <td>285.200012</td>\n",
       "      <td>286.059998</td>\n",
       "      <td>276.354248</td>\n",
       "      <td>931600</td>\n",
       "    </tr>\n",
       "    <tr>\n",
       "      <th>2019-12-27</th>\n",
       "      <td>286.829987</td>\n",
       "      <td>286.850006</td>\n",
       "      <td>285.899994</td>\n",
       "      <td>286.329987</td>\n",
       "      <td>276.615204</td>\n",
       "      <td>1930200</td>\n",
       "    </tr>\n",
       "    <tr>\n",
       "      <th>2019-12-30</th>\n",
       "      <td>286.339996</td>\n",
       "      <td>286.410004</td>\n",
       "      <td>284.119995</td>\n",
       "      <td>284.529999</td>\n",
       "      <td>274.876190</td>\n",
       "      <td>2552900</td>\n",
       "    </tr>\n",
       "  </tbody>\n",
       "</table>\n",
       "<p>5030 rows × 6 columns</p>\n",
       "</div>"
      ],
      "text/plain": [
       "                  Open        High         Low       Close   Adj Close  \\\n",
       "Date                                                                     \n",
       "2000-01-03  116.031250  116.031250  113.000000  113.500000   70.035995   \n",
       "2000-01-04  112.281250  112.968750  109.765625  109.765625   67.731735   \n",
       "2000-01-05  110.000000  112.375000  109.031250  111.187500   68.609116   \n",
       "2000-01-06  111.406250  113.171875  111.187500  111.750000   68.956184   \n",
       "2000-01-07  113.312500  115.562500  113.218750  115.500000   71.270126   \n",
       "...                ...         ...         ...         ...         ...   \n",
       "2019-12-23  285.339996  285.660004  285.149994  285.329987  275.649017   \n",
       "2019-12-24  285.630005  285.630005  284.869995  285.010010  275.339935   \n",
       "2019-12-26  285.230011  286.100006  285.200012  286.059998  276.354248   \n",
       "2019-12-27  286.829987  286.850006  285.899994  286.329987  276.615204   \n",
       "2019-12-30  286.339996  286.410004  284.119995  284.529999  274.876190   \n",
       "\n",
       "             Volume  \n",
       "Date                 \n",
       "2000-01-03  1278800  \n",
       "2000-01-04  1535700  \n",
       "2000-01-05  2007000  \n",
       "2000-01-06  2639500  \n",
       "2000-01-07  3767400  \n",
       "...             ...  \n",
       "2019-12-23  2564700  \n",
       "2019-12-24   611600  \n",
       "2019-12-26   931600  \n",
       "2019-12-27  1930200  \n",
       "2019-12-30  2552900  \n",
       "\n",
       "[5030 rows x 6 columns]"
      ]
     },
     "execution_count": 6,
     "metadata": {},
     "output_type": "execute_result"
    }
   ],
   "source": [
    "DIA"
   ]
  },
  {
   "cell_type": "code",
   "execution_count": 7,
   "id": "d35c298b",
   "metadata": {},
   "outputs": [
    {
     "data": {
      "text/plain": [
       "Index(['Open', 'High', 'Low', 'Close', 'Adj Close', 'Volume'], dtype='object')"
      ]
     },
     "execution_count": 7,
     "metadata": {},
     "output_type": "execute_result"
    }
   ],
   "source": [
    "DIA.columns"
   ]
  },
  {
   "cell_type": "code",
   "execution_count": 8,
   "id": "28729b0f",
   "metadata": {},
   "outputs": [],
   "source": [
    "drop = ['Open', 'High', 'Low', 'Close', 'Volume']\n",
    "DIA = DIA.drop(columns = drop)"
   ]
  },
  {
   "cell_type": "code",
   "execution_count": 9,
   "id": "47b65a56",
   "metadata": {},
   "outputs": [
    {
     "data": {
      "text/plain": [
       "pandas.core.frame.DataFrame"
      ]
     },
     "execution_count": 9,
     "metadata": {},
     "output_type": "execute_result"
    }
   ],
   "source": [
    "type(DIA)"
   ]
  },
  {
   "cell_type": "code",
   "execution_count": 10,
   "id": "a53bf5ac",
   "metadata": {
    "scrolled": true
   },
   "outputs": [
    {
     "data": {
      "text/html": [
       "<div>\n",
       "<style scoped>\n",
       "    .dataframe tbody tr th:only-of-type {\n",
       "        vertical-align: middle;\n",
       "    }\n",
       "\n",
       "    .dataframe tbody tr th {\n",
       "        vertical-align: top;\n",
       "    }\n",
       "\n",
       "    .dataframe thead th {\n",
       "        text-align: right;\n",
       "    }\n",
       "</style>\n",
       "<table border=\"1\" class=\"dataframe\">\n",
       "  <thead>\n",
       "    <tr style=\"text-align: right;\">\n",
       "      <th></th>\n",
       "      <th>Adj Close</th>\n",
       "    </tr>\n",
       "  </thead>\n",
       "  <tbody>\n",
       "    <tr>\n",
       "      <th>count</th>\n",
       "      <td>5030.000000</td>\n",
       "    </tr>\n",
       "    <tr>\n",
       "      <th>mean</th>\n",
       "      <td>113.079029</td>\n",
       "    </tr>\n",
       "    <tr>\n",
       "      <th>std</th>\n",
       "      <td>57.796811</td>\n",
       "    </tr>\n",
       "    <tr>\n",
       "      <th>min</th>\n",
       "      <td>47.106049</td>\n",
       "    </tr>\n",
       "    <tr>\n",
       "      <th>25%</th>\n",
       "      <td>68.778797</td>\n",
       "    </tr>\n",
       "    <tr>\n",
       "      <th>50%</th>\n",
       "      <td>89.497341</td>\n",
       "    </tr>\n",
       "    <tr>\n",
       "      <th>75%</th>\n",
       "      <td>146.094704</td>\n",
       "    </tr>\n",
       "    <tr>\n",
       "      <th>max</th>\n",
       "      <td>276.615204</td>\n",
       "    </tr>\n",
       "  </tbody>\n",
       "</table>\n",
       "</div>"
      ],
      "text/plain": [
       "         Adj Close\n",
       "count  5030.000000\n",
       "mean    113.079029\n",
       "std      57.796811\n",
       "min      47.106049\n",
       "25%      68.778797\n",
       "50%      89.497341\n",
       "75%     146.094704\n",
       "max     276.615204"
      ]
     },
     "execution_count": 10,
     "metadata": {},
     "output_type": "execute_result"
    }
   ],
   "source": [
    "DIA.describe()"
   ]
  },
  {
   "cell_type": "code",
   "execution_count": 11,
   "id": "d566bb0b",
   "metadata": {
    "scrolled": false
   },
   "outputs": [
    {
     "data": {
      "image/png": "[encoded data removed]",
      "text/plain": [
       "<Figure size 432x288 with 1 Axes>"
      ]
     },
     "metadata": {
      "needs_background": "light"
     },
     "output_type": "display_data"
    },
    {
     "data": {
      "image/png": "[encoded data removed]",
      "text/plain": [
       "<Figure size 432x288 with 1 Axes>"
      ]
     },
     "metadata": {
      "needs_background": "light"
     },
     "output_type": "display_data"
    },
    {
     "data": {
      "image/png": "[encoded data removed]",
      "text/plain": [
       "<Figure size 432x288 with 1 Axes>"
      ]
     },
     "metadata": {
      "needs_background": "light"
     },
     "output_type": "display_data"
    }
   ],
   "source": [
    "plt.plot(DIA)\n",
    "tsaplots.plot_acf(DIA['Adj Close'], lags=10)\n",
    "tsaplots.plot_pacf(DIA['Adj Close'], lags=10)\n",
    "\n",
    "plt.show()"
   ]
  },
  {
   "cell_type": "markdown",
   "id": "0f311413",
   "metadata": {},
   "source": [
    "### Testing for stationarity with KPSS and ADFuller"
   ]
  },
  {
   "cell_type": "code",
   "execution_count": 12,
   "id": "c0b76ee3",
   "metadata": {
    "scrolled": true
   },
   "outputs": [
    {
     "name": "stderr",
     "output_type": "stream",
     "text": [
      "C:\\Users\\yorik\\anaconda3\\lib\\site-packages\\statsmodels\\tsa\\stattools.py:1875: FutureWarning: The behavior of using nlags=None will change in release 0.13.Currently nlags=None is the same as nlags=\"legacy\", and so a sample-size lag length is used. After the next release, the default will change to be the same as nlags=\"auto\" which uses an automatic lag length selection method. To silence this warning, either use \"auto\" or \"legacy\"\n",
      "  warnings.warn(msg, FutureWarning)\n",
      "C:\\Users\\yorik\\anaconda3\\lib\\site-packages\\statsmodels\\tsa\\stattools.py:1906: InterpolationWarning: The test statistic is outside of the range of p-values available in the\n",
      "look-up table. The actual p-value is smaller than the p-value returned.\n",
      "\n",
      "  warnings.warn(\n"
     ]
    },
    {
     "data": {
      "text/plain": [
       "(12.416714303935343,\n",
       " 0.01,\n",
       " 32,\n",
       " {'10%': 0.347, '5%': 0.463, '2.5%': 0.574, '1%': 0.739})"
      ]
     },
     "execution_count": 12,
     "metadata": {},
     "output_type": "execute_result"
    }
   ],
   "source": [
    "from statsmodels.tsa.stattools import kpss\n",
    "from statsmodels.tsa.stattools import adfuller\n",
    "kpss(DIA)"
   ]
  },
  {
   "cell_type": "code",
   "execution_count": 13,
   "id": "f474a0fa",
   "metadata": {},
   "outputs": [
    {
     "data": {
      "text/plain": [
       "(2.483535472275075,\n",
       " 0.9990443483166125,\n",
       " 19,\n",
       " 5010,\n",
       " {'1%': -3.4316559188949403,\n",
       "  '5%': -2.8621170751906178,\n",
       "  '10%': -2.567077177780168},\n",
       " 15653.847899151604)"
      ]
     },
     "execution_count": 13,
     "metadata": {},
     "output_type": "execute_result"
    }
   ],
   "source": [
    "adfuller(DIA)"
   ]
  },
  {
   "cell_type": "code",
   "execution_count": 14,
   "id": "6dc4bccf",
   "metadata": {
    "scrolled": true
   },
   "outputs": [
    {
     "data": {
      "image/png": "[encoded data removed]",
      "text/plain": [
       "<Figure size 720x360 with 1 Axes>"
      ]
     },
     "metadata": {
      "needs_background": "light"
     },
     "output_type": "display_data"
    }
   ],
   "source": [
    "_ = plt.figure(figsize=(10,5))\n",
    "_ = plt.plot(DIA.diff().dropna())"
   ]
  },
  {
   "cell_type": "code",
   "execution_count": 15,
   "id": "afafec98",
   "metadata": {},
   "outputs": [
    {
     "name": "stderr",
     "output_type": "stream",
     "text": [
      "C:\\Users\\yorik\\anaconda3\\lib\\site-packages\\statsmodels\\tsa\\stattools.py:1875: FutureWarning: The behavior of using nlags=None will change in release 0.13.Currently nlags=None is the same as nlags=\"legacy\", and so a sample-size lag length is used. After the next release, the default will change to be the same as nlags=\"auto\" which uses an automatic lag length selection method. To silence this warning, either use \"auto\" or \"legacy\"\n",
      "  warnings.warn(msg, FutureWarning)\n",
      "C:\\Users\\yorik\\anaconda3\\lib\\site-packages\\statsmodels\\tsa\\stattools.py:1906: InterpolationWarning: The test statistic is outside of the range of p-values available in the\n",
      "look-up table. The actual p-value is smaller than the p-value returned.\n",
      "\n",
      "  warnings.warn(\n"
     ]
    },
    {
     "data": {
      "text/plain": [
       "(0.8545712922665148,\n",
       " 0.01,\n",
       " 32,\n",
       " {'10%': 0.347, '5%': 0.463, '2.5%': 0.574, '1%': 0.739})"
      ]
     },
     "execution_count": 15,
     "metadata": {},
     "output_type": "execute_result"
    }
   ],
   "source": [
    "kpss(DIA.diff().dropna())"
   ]
  },
  {
   "cell_type": "code",
   "execution_count": 16,
   "id": "065fec95",
   "metadata": {},
   "outputs": [
    {
     "data": {
      "text/plain": [
       "(-17.33836659970345,\n",
       " 5.358340209377672e-30,\n",
       " 18,\n",
       " 5010,\n",
       " {'1%': -3.4316559188949403,\n",
       "  '5%': -2.8621170751906178,\n",
       "  '10%': -2.567077177780168},\n",
       " 15653.663800936754)"
      ]
     },
     "execution_count": 16,
     "metadata": {},
     "output_type": "execute_result"
    }
   ],
   "source": [
    "adfuller(DIA.diff().dropna())"
   ]
  },
  {
   "cell_type": "code",
   "execution_count": 17,
   "id": "bacb0343",
   "metadata": {},
   "outputs": [],
   "source": [
    "DIA_log = np.log(DIA)"
   ]
  },
  {
   "cell_type": "code",
   "execution_count": 18,
   "id": "928186b4",
   "metadata": {
    "scrolled": true
   },
   "outputs": [
    {
     "data": {
      "text/html": [
       "<div>\n",
       "<style scoped>\n",
       "    .dataframe tbody tr th:only-of-type {\n",
       "        vertical-align: middle;\n",
       "    }\n",
       "\n",
       "    .dataframe tbody tr th {\n",
       "        vertical-align: top;\n",
       "    }\n",
       "\n",
       "    .dataframe thead th {\n",
       "        text-align: right;\n",
       "    }\n",
       "</style>\n",
       "<table border=\"1\" class=\"dataframe\">\n",
       "  <thead>\n",
       "    <tr style=\"text-align: right;\">\n",
       "      <th></th>\n",
       "      <th>Adj Close</th>\n",
       "    </tr>\n",
       "    <tr>\n",
       "      <th>Date</th>\n",
       "      <th></th>\n",
       "    </tr>\n",
       "  </thead>\n",
       "  <tbody>\n",
       "    <tr>\n",
       "      <th>2000-01-03</th>\n",
       "      <td>4.249009</td>\n",
       "    </tr>\n",
       "    <tr>\n",
       "      <th>2000-01-04</th>\n",
       "      <td>4.215555</td>\n",
       "    </tr>\n",
       "    <tr>\n",
       "      <th>2000-01-05</th>\n",
       "      <td>4.228425</td>\n",
       "    </tr>\n",
       "    <tr>\n",
       "      <th>2000-01-06</th>\n",
       "      <td>4.233471</td>\n",
       "    </tr>\n",
       "    <tr>\n",
       "      <th>2000-01-07</th>\n",
       "      <td>4.266477</td>\n",
       "    </tr>\n",
       "  </tbody>\n",
       "</table>\n",
       "</div>"
      ],
      "text/plain": [
       "            Adj Close\n",
       "Date                 \n",
       "2000-01-03   4.249009\n",
       "2000-01-04   4.215555\n",
       "2000-01-05   4.228425\n",
       "2000-01-06   4.233471\n",
       "2000-01-07   4.266477"
      ]
     },
     "execution_count": 18,
     "metadata": {},
     "output_type": "execute_result"
    }
   ],
   "source": [
    "DIA_log.head()"
   ]
  },
  {
   "cell_type": "code",
   "execution_count": 19,
   "id": "b2f28b1c",
   "metadata": {
    "scrolled": true
   },
   "outputs": [
    {
     "data": {
      "image/png": "[encoded data removed]",
      "text/plain": [
       "<Figure size 720x360 with 1 Axes>"
      ]
     },
     "metadata": {
      "needs_background": "light"
     },
     "output_type": "display_data"
    }
   ],
   "source": [
    "_ = plt.figure(figsize=(10,5))\n",
    "_ = plt.plot(DIA_log.diff())"
   ]
  },
  {
   "cell_type": "code",
   "execution_count": 20,
   "id": "1eb9d6c7",
   "metadata": {},
   "outputs": [
    {
     "name": "stderr",
     "output_type": "stream",
     "text": [
      "C:\\Users\\yorik\\anaconda3\\lib\\site-packages\\statsmodels\\tsa\\stattools.py:1875: FutureWarning: The behavior of using nlags=None will change in release 0.13.Currently nlags=None is the same as nlags=\"legacy\", and so a sample-size lag length is used. After the next release, the default will change to be the same as nlags=\"auto\" which uses an automatic lag length selection method. To silence this warning, either use \"auto\" or \"legacy\"\n",
      "  warnings.warn(msg, FutureWarning)\n",
      "C:\\Users\\yorik\\anaconda3\\lib\\site-packages\\statsmodels\\tsa\\stattools.py:1910: InterpolationWarning: The test statistic is outside of the range of p-values available in the\n",
      "look-up table. The actual p-value is greater than the p-value returned.\n",
      "\n",
      "  warnings.warn(\n"
     ]
    },
    {
     "data": {
      "text/plain": [
       "(0.28430729819576245,\n",
       " 0.1,\n",
       " 32,\n",
       " {'10%': 0.347, '5%': 0.463, '2.5%': 0.574, '1%': 0.739})"
      ]
     },
     "execution_count": 20,
     "metadata": {},
     "output_type": "execute_result"
    }
   ],
   "source": [
    "kpss(DIA_log.diff().dropna())"
   ]
  },
  {
   "cell_type": "code",
   "execution_count": 21,
   "id": "14b6711b",
   "metadata": {
    "scrolled": true
   },
   "outputs": [
    {
     "data": {
      "text/plain": [
       "(-15.975795515301575,\n",
       " 6.923154884126501e-29,\n",
       " 21,\n",
       " 5007,\n",
       " {'1%': -3.431656701752533,\n",
       "  '5%': -2.862117421053178,\n",
       "  '10%': -2.5670773618962612},\n",
       " -30675.67419281561)"
      ]
     },
     "execution_count": 21,
     "metadata": {},
     "output_type": "execute_result"
    }
   ],
   "source": [
    "adfuller(DIA_log.diff().dropna())"
   ]
  },
  {
   "cell_type": "code",
   "execution_count": 22,
   "id": "67e82f01",
   "metadata": {},
   "outputs": [],
   "source": [
    "DIA_log_diff = DIA_log.diff().dropna()"
   ]
  },
  {
   "cell_type": "markdown",
   "id": "a57172fc",
   "metadata": {},
   "source": [
    "Our p-value is now greater than 0.05, so we can accept the null hypothesis that our data is stationary."
   ]
  },
  {
   "cell_type": "markdown",
   "id": "af72dd5a",
   "metadata": {},
   "source": [
    "### Splitting into training data and testing data"
   ]
  },
  {
   "cell_type": "code",
   "execution_count": 23,
   "id": "03cf6ffc",
   "metadata": {},
   "outputs": [],
   "source": [
    "# Make a function called evaluate_arima_model to find the MSE of a single ARIMA model \n",
    "def evaluate_arima_model(data, arima_order):\n",
    "    # Needs to be an integer because it is later used as an index.\n",
    "    # Use int()\n",
    "    split=int(len(data) * 0.85) \n",
    "    # Make train and test variables, with 'train, test'\n",
    "    train, test = data[0:split], data[split:len(data)]\n",
    "    past=[x for x in train]\n",
    "    # make predictions\n",
    "    predictions = list()\n",
    "    for i in range(len(test)):#timestep-wise comparison between test data and one-step prediction ARIMA model. \n",
    "        model = ARIMA(past, order=arima_order)\n",
    "        model_fit = model.fit(disp=0)\n",
    "        future = model_fit.forecast()[0]\n",
    "        predictions.append(future)\n",
    "        past.append(test[i])\n",
    "    # calculate out of sample error\n",
    "    error = mean_squared_error(test, predictions)\n",
    "    # Return the error\n",
    "    return error"
   ]
  },
  {
   "cell_type": "code",
   "execution_count": 24,
   "id": "405247ca",
   "metadata": {},
   "outputs": [],
   "source": [
    "# Make a function called evaluate_models to evaluate different ARIMA models with several different p, d, and q values.\n",
    "def evaluate_models(dataset, p_values, d_values, q_values):\n",
    "    best_score, best_cfg = float(\"inf\"), None\n",
    "    # Iterate through p_values\n",
    "    for p in p_values:\n",
    "        # Iterate through d_values\n",
    "        for d in d_values:\n",
    "            # Iterate through q_values\n",
    "            for q in q_values:\n",
    "                # p, d, q iterator variables in that order\n",
    "                order = (p,d,q)\n",
    "                try:\n",
    "                    # Make a variable called mse for the Mean squared error\n",
    "                    mse = evaluate_arima_model(dataset, order)\n",
    "                    if mse < best_score:\n",
    "                        best_score, best_cfg = mse, order\n",
    "                    print('ARIMA%s MSE=%.3f' % (order,mse))\n",
    "                except:\n",
    "                    continue\n",
    "    return print('Best ARIMA%s MSE=%.3f' % (best_cfg, best_score))"
   ]
  },
  {
   "cell_type": "code",
   "execution_count": 25,
   "id": "159bc074",
   "metadata": {},
   "outputs": [],
   "source": [
    "# Now, we choose a couple of values to try for each parameter: p_values, d_values and q_values\n",
    "# Fill in the blanks as appropriate\n",
    "p_values = [x for x in range(0, 3)]\n",
    "d_values = [x for x in range(0, 3)]\n",
    "q_values = [x for x in range(0, 3)]"
   ]
  },
  {
   "cell_type": "code",
   "execution_count": 26,
   "id": "e116990b",
   "metadata": {},
   "outputs": [
    {
     "name": "stdout",
     "output_type": "stream",
     "text": [
      "Best ARIMANone MSE=inf\n"
     ]
    }
   ],
   "source": [
    "# Finally, we can find the optimum ARIMA model for our data.\n",
    "# Nb. this can take a while...!\n",
    "import warnings\n",
    "warnings.filterwarnings(\"ignore\")\n",
    "evaluate_models(DIA_log, p_values, d_values, q_values)"
   ]
  },
  {
   "cell_type": "code",
   "execution_count": 27,
   "id": "3e892772",
   "metadata": {},
   "outputs": [],
   "source": [
    "split=int(len(DIA) * 0.85) \n",
    "train, test = DIA[0:split], DIA[split:len(DIA)]\n",
    "train, test = DIA[:'2017'], DIA['2018':]    "
   ]
  },
  {
   "cell_type": "code",
   "execution_count": 28,
   "id": "ba52f4f7",
   "metadata": {
    "scrolled": false
   },
   "outputs": [
    {
     "data": {
      "image/png": "[encoded data removed]",
      "text/plain": [
       "<Figure size 432x288 with 1 Axes>"
      ]
     },
     "metadata": {
      "needs_background": "light"
     },
     "output_type": "display_data"
    }
   ],
   "source": [
    "fig, ax = plt.subplots()\n",
    "\n",
    "# Plot the train and test sets on the axis ax\n",
    "train.plot(ax=ax)\n",
    "test.plot(ax=ax)\n",
    "ax.legend([\"Train\", \"Test\"])\n",
    "ax.set_ylabel('Closing Price')\n",
    "plt.show()"
   ]
  },
  {
   "cell_type": "markdown",
   "id": "b5ac3559",
   "metadata": {},
   "source": [
    "### Scaling the Data"
   ]
  },
  {
   "cell_type": "code",
   "execution_count": 29,
   "id": "1c3b4ded",
   "metadata": {
    "scrolled": true
   },
   "outputs": [
    {
     "data": {
      "text/plain": [
       "(4528, 1)"
      ]
     },
     "execution_count": 29,
     "metadata": {},
     "output_type": "execute_result"
    }
   ],
   "source": [
    "scaler = MinMaxScaler(feature_range=(0,1))\n",
    "scaled_data = scaler.fit_transform(train.values.reshape(-1,1))\n",
    "scaled_data.shape"
   ]
  },
  {
   "cell_type": "code",
   "execution_count": 30,
   "id": "3652e617",
   "metadata": {},
   "outputs": [],
   "source": [
    "prediction_days = 30\n",
    "\n",
    "X_train = []\n",
    "y_train = []\n",
    "\n",
    "for i in range(prediction_days, len(scaled_data)-5):      \n",
    "    X_train.append(scaled_data[i-prediction_days: i, 0])\n",
    "    y_train.append(scaled_data[i+5, 0])                     \n",
    "\n",
    "X_train, y_train = np.array(X_train), np.array(y_train)\n",
    "\n",
    "X_train = np.reshape(X_train, (X_train.shape[0], X_train.shape[1], 1))"
   ]
  },
  {
   "cell_type": "code",
   "execution_count": 31,
   "id": "922d4891",
   "metadata": {
    "scrolled": false
   },
   "outputs": [
    {
     "name": "stdout",
     "output_type": "stream",
     "text": [
      "(4493, 30, 1)\n",
      "(4493,)\n"
     ]
    }
   ],
   "source": [
    "print(X_train.shape)\n",
    "print(y_train.shape)"
   ]
  },
  {
   "cell_type": "markdown",
   "id": "9c1832fa",
   "metadata": {},
   "source": [
    "## Modeling"
   ]
  },
  {
   "cell_type": "code",
   "execution_count": 32,
   "id": "9532f51d",
   "metadata": {},
   "outputs": [],
   "source": [
    "def LSTM_model():\n",
    "    \n",
    "    # Use Keras sequential model\n",
    "    model = Sequential()    \n",
    "    \n",
    "    # First LSTM layer with Dropout regularisation; Set return_sequences to True to feed outputs to next layer\n",
    "    model.add(LSTM(units = 50, return_sequences = True, input_shape = (X_train.shape[1],1))) \n",
    "    model.add(Dropout(0.2))\n",
    "    \n",
    "    # Second LSTM layer with Dropout regularisation; Set return_sequences to True to feed outputs to next layer\n",
    "    model.add(LSTM(units = 50, return_sequences = True))                                    \n",
    "    model.add(Dropout(0.2))\n",
    "    \n",
    "    # Final LSTM layer with Dropout regularisation; Set return_sequences to False since now we will be predicting with the output layer\n",
    "    model.add(LSTM(units = 50))\n",
    "    model.add(Dropout(0.2))\n",
    "    \n",
    "    # The output layer with linear activation to predict Open stock price\n",
    "    model.add(Dense(units=1, activation = \"linear\"))\n",
    "    \n",
    "    return model"
   ]
  },
  {
   "cell_type": "code",
   "execution_count": 33,
   "id": "a25fbfdb",
   "metadata": {},
   "outputs": [
    {
     "name": "stdout",
     "output_type": "stream",
     "text": [
      "Model: \"sequential\"\n",
      "_________________________________________________________________\n",
      " Layer (type)                Output Shape              Param #   \n",
      "=================================================================\n",
      " lstm (LSTM)                 (None, 30, 50)            10400     \n",
      "                                                                 \n",
      " dropout (Dropout)           (None, 30, 50)            0         \n",
      "                                                                 \n",
      " lstm_1 (LSTM)               (None, 30, 50)            20200     \n",
      "                                                                 \n",
      " dropout_1 (Dropout)         (None, 30, 50)            0         \n",
      "                                                                 \n",
      " lstm_2 (LSTM)               (None, 50)                20200     \n",
      "                                                                 \n",
      " dropout_2 (Dropout)         (None, 50)                0         \n",
      "                                                                 \n",
      " dense (Dense)               (None, 1)                 51        \n",
      "                                                                 \n",
      "=================================================================\n",
      "Total params: 50,851\n",
      "Trainable params: 50,851\n",
      "Non-trainable params: 0\n",
      "_________________________________________________________________\n"
     ]
    }
   ],
   "source": [
    "model = LSTM_model()\n",
    "model.summary()"
   ]
  },
  {
   "cell_type": "code",
   "execution_count": 34,
   "id": "85d6d73b",
   "metadata": {},
   "outputs": [],
   "source": [
    "model.compile(optimizer='adam', loss='mean_squared_error', metrics = ['accuracy'])"
   ]
  },
  {
   "cell_type": "code",
   "execution_count": 35,
   "id": "bcd3034f",
   "metadata": {},
   "outputs": [
    {
     "name": "stdout",
     "output_type": "stream",
     "text": [
      "Epoch 1/50\n",
      "141/141 [==============================] - ETA: 0s - loss: 0.0060 - accuracy: 4.4514e-04WARNING:tensorflow:Can save best model only with val_loss available, skipping.\n",
      "141/141 [==============================] - 20s 65ms/step - loss: 0.0060 - accuracy: 4.4514e-04\n",
      "Epoch 2/50\n",
      "141/141 [==============================] - ETA: 0s - loss: 0.0014 - accuracy: 4.4514e-04WARNING:tensorflow:Can save best model only with val_loss available, skipping.\n",
      "141/141 [==============================] - 9s 66ms/step - loss: 0.0014 - accuracy: 4.4514e-04\n",
      "Epoch 3/50\n",
      "141/141 [==============================] - ETA: 0s - loss: 0.0012 - accuracy: 4.4514e-04WARNING:tensorflow:Can save best model only with val_loss available, skipping.\n",
      "141/141 [==============================] - 9s 64ms/step - loss: 0.0012 - accuracy: 4.4514e-04\n",
      "Epoch 4/50\n",
      "141/141 [==============================] - ETA: 0s - loss: 0.0012 - accuracy: 4.4514e-04WARNING:tensorflow:Can save best model only with val_loss available, skipping.\n",
      "141/141 [==============================] - 9s 66ms/step - loss: 0.0012 - accuracy: 4.4514e-04\n",
      "Epoch 5/50\n",
      "141/141 [==============================] - ETA: 0s - loss: 0.0012 - accuracy: 4.4514e-04 ETA: 0s - loss:WARNING:tensorflow:Can save best model only with val_loss available, skipping.\n",
      "141/141 [==============================] - 9s 64ms/step - loss: 0.0012 - accuracy: 4.4514e-04\n",
      "Epoch 6/50\n",
      "141/141 [==============================] - ETA: 0s - loss: 0.0010 - accuracy: 4.4514e-04WARNING:tensorflow:Can save best model only with val_loss available, skipping.\n",
      "141/141 [==============================] - 9s 64ms/step - loss: 0.0010 - accuracy: 4.4514e-04\n",
      "Epoch 7/50\n",
      "141/141 [==============================] - ETA: 0s - loss: 0.0010 - accuracy: 4.4514e-04WARNING:tensorflow:Can save best model only with val_loss available, skipping.\n",
      "141/141 [==============================] - 9s 66ms/step - loss: 0.0010 - accuracy: 4.4514e-04\n",
      "Epoch 8/50\n",
      "141/141 [==============================] - ETA: 0s - loss: 0.0012 - accuracy: 4.4514e-04WARNING:tensorflow:Can save best model only with val_loss available, skipping.\n",
      "141/141 [==============================] - 9s 64ms/step - loss: 0.0012 - accuracy: 4.4514e-04\n",
      "Epoch 9/50\n",
      "141/141 [==============================] - ETA: 0s - loss: 9.1396e-04 - accuracy: 4.4514e-04WARNING:tensorflow:Can save best model only with val_loss available, skipping.\n",
      "141/141 [==============================] - 9s 67ms/step - loss: 9.1396e-04 - accuracy: 4.4514e-04\n",
      "Epoch 10/50\n",
      "141/141 [==============================] - ETA: 0s - loss: 9.2184e-04 - accuracy: 4.4514e-04WARNING:tensorflow:Can save best model only with val_loss available, skipping.\n",
      "141/141 [==============================] - 9s 64ms/step - loss: 9.2184e-04 - accuracy: 4.4514e-04\n",
      "Epoch 11/50\n",
      "141/141 [==============================] - ETA: 0s - loss: 8.2242e-04 - accuracy: 4.4514e-04WARNING:tensorflow:Can save best model only with val_loss available, skipping.\n",
      "141/141 [==============================] - 9s 65ms/step - loss: 8.2242e-04 - accuracy: 4.4514e-04\n",
      "Epoch 12/50\n",
      "141/141 [==============================] - ETA: 0s - loss: 8.0355e-04 - accuracy: 4.4514e-04WARNING:tensorflow:Can save best model only with val_loss available, skipping.\n",
      "141/141 [==============================] - 9s 64ms/step - loss: 8.0355e-04 - accuracy: 4.4514e-04\n",
      "Epoch 13/50\n",
      "141/141 [==============================] - ETA: 0s - loss: 8.1351e-04 - accuracy: 4.4514e-04WARNING:tensorflow:Can save best model only with val_loss available, skipping.\n",
      "141/141 [==============================] - 9s 64ms/step - loss: 8.1351e-04 - accuracy: 4.4514e-04\n",
      "Epoch 14/50\n",
      "141/141 [==============================] - ETA: 0s - loss: 7.6168e-04 - accuracy: 4.4514e-04WARNING:tensorflow:Can save best model only with val_loss available, skipping.\n",
      "141/141 [==============================] - 9s 65ms/step - loss: 7.6168e-04 - accuracy: 4.4514e-04\n",
      "Epoch 15/50\n",
      "141/141 [==============================] - ETA: 0s - loss: 7.5097e-04 - accuracy: 4.4514e-04WARNING:tensorflow:Can save best model only with val_loss available, skipping.\n",
      "141/141 [==============================] - 9s 64ms/step - loss: 7.5097e-04 - accuracy: 4.4514e-04\n",
      "Epoch 16/50\n",
      "141/141 [==============================] - ETA: 0s - loss: 7.4078e-04 - accuracy: 4.4514e-04WARNING:tensorflow:Can save best model only with val_loss available, skipping.\n",
      "141/141 [==============================] - 9s 65ms/step - loss: 7.4078e-04 - accuracy: 4.4514e-04\n",
      "Epoch 17/50\n",
      "141/141 [==============================] - ETA: 0s - loss: 8.6150e-04 - accuracy: 4.4514e-04WARNING:tensorflow:Can save best model only with val_loss available, skipping.\n",
      "141/141 [==============================] - 9s 64ms/step - loss: 8.6150e-04 - accuracy: 4.4514e-04\n",
      "Epoch 18/50\n",
      "141/141 [==============================] - ETA: 0s - loss: 6.7464e-04 - accuracy: 4.4514e-04WARNING:tensorflow:Can save best model only with val_loss available, skipping.\n",
      "141/141 [==============================] - 9s 65ms/step - loss: 6.7464e-04 - accuracy: 4.4514e-04\n",
      "Epoch 19/50\n",
      "141/141 [==============================] - ETA: 0s - loss: 7.1369e-04 - accuracy: 4.4514e-04WARNING:tensorflow:Can save best model only with val_loss available, skipping.\n",
      "141/141 [==============================] - 9s 64ms/step - loss: 7.1369e-04 - accuracy: 4.4514e-04\n",
      "Epoch 20/50\n",
      "141/141 [==============================] - ETA: 0s - loss: 6.9788e-04 - accuracy: 4.4514e-04WARNING:tensorflow:Can save best model only with val_loss available, skipping.\n",
      "141/141 [==============================] - 9s 64ms/step - loss: 6.9788e-04 - accuracy: 4.4514e-04\n",
      "Epoch 21/50\n",
      "141/141 [==============================] - ETA: 0s - loss: 6.6903e-04 - accuracy: 4.4514e-04WARNING:tensorflow:Can save best model only with val_loss available, skipping.\n",
      "141/141 [==============================] - 9s 65ms/step - loss: 6.6903e-04 - accuracy: 4.4514e-04\n",
      "Epoch 22/50\n",
      "141/141 [==============================] - ETA: 0s - loss: 6.9079e-04 - accuracy: 4.4514e-04WARNING:tensorflow:Can save best model only with val_loss available, skipping.\n",
      "141/141 [==============================] - 9s 64ms/step - loss: 6.9079e-04 - accuracy: 4.4514e-04\n",
      "Epoch 23/50\n",
      "141/141 [==============================] - ETA: 0s - loss: 7.1511e-04 - accuracy: 4.4514e-04WARNING:tensorflow:Can save best model only with val_loss available, skipping.\n",
      "141/141 [==============================] - 9s 65ms/step - loss: 7.1511e-04 - accuracy: 4.4514e-04\n",
      "Epoch 24/50\n",
      "141/141 [==============================] - ETA: 0s - loss: 7.4829e-04 - accuracy: 4.4514e-04WARNING:tensorflow:Can save best model only with val_loss available, skipping.\n",
      "141/141 [==============================] - 9s 63ms/step - loss: 7.4829e-04 - accuracy: 4.4514e-04\n",
      "Epoch 25/50\n",
      "140/141 [============================>.] - ETA: 0s - loss: 6.5013e-04 - accuracy: 4.4643e-04WARNING:tensorflow:Can save best model only with val_loss available, skipping.\n",
      "141/141 [==============================] - 9s 61ms/step - loss: 6.4994e-04 - accuracy: 4.4514e-04\n",
      "Epoch 26/50\n",
      "140/141 [============================>.] - ETA: 0s - loss: 6.9474e-04 - accuracy: 4.4643e-04WARNING:tensorflow:Can save best model only with val_loss available, skipping.\n",
      "141/141 [==============================] - 5s 37ms/step - loss: 6.9301e-04 - accuracy: 4.4514e-04\n",
      "Epoch 27/50\n",
      "140/141 [============================>.] - ETA: 0s - loss: 6.2180e-04 - accuracy: 4.4643e-04WARNING:tensorflow:Can save best model only with val_loss available, skipping.\n",
      "141/141 [==============================] - 5s 36ms/step - loss: 6.2037e-04 - accuracy: 4.4514e-04\n",
      "Epoch 28/50\n",
      "141/141 [==============================] - ETA: 0s - loss: 6.5497e-04 - accuracy: 4.4514e-04 ETA: 0s - loss: 6.4967e-04 - accuracy: 4.5620WARNING:tensorflow:Can save best model only with val_loss available, skipping.\n",
      "141/141 [==============================] - 5s 34ms/step - loss: 6.5497e-04 - accuracy: 4.4514e-04\n",
      "Epoch 29/50\n",
      "141/141 [==============================] - ETA: 0s - loss: 6.8774e-04 - accuracy: 4.4514e-04WARNING:tensorflow:Can save best model only with val_loss available, skipping.\n",
      "141/141 [==============================] - 5s 37ms/step - loss: 6.8774e-04 - accuracy: 4.4514e-04\n",
      "Epoch 30/50\n"
     ]
    },
    {
     "name": "stdout",
     "output_type": "stream",
     "text": [
      "140/141 [============================>.] - ETA: 0s - loss: 5.9208e-04 - accuracy: 4.4643e-04WARNING:tensorflow:Can save best model only with val_loss available, skipping.\n",
      "141/141 [==============================] - 5s 35ms/step - loss: 5.9161e-04 - accuracy: 4.4514e-04\n",
      "Epoch 31/50\n",
      "141/141 [==============================] - ETA: 0s - loss: 5.7090e-04 - accuracy: 4.4514e-04 ETA: 1s - - ETA: 0s - loss: 5.7145e-04 - accuracy: 4.4964e-WARNING:tensorflow:Can save best model only with val_loss available, skipping.\n",
      "141/141 [==============================] - 5s 36ms/step - loss: 5.7090e-04 - accuracy: 4.4514e-04\n",
      "Epoch 32/50\n",
      "141/141 [==============================] - ETA: 0s - loss: 6.0361e-04 - accuracy: 4.4514e-04WARNING:tensorflow:Can save best model only with val_loss available, skipping.\n",
      "141/141 [==============================] - 5s 38ms/step - loss: 6.0361e-04 - accuracy: 4.4514e-04\n",
      "Epoch 33/50\n",
      "141/141 [==============================] - ETA: 0s - loss: 6.0067e-04 - accuracy: 4.4514e-04WARNING:tensorflow:Can save best model only with val_loss available, skipping.\n",
      "141/141 [==============================] - 5s 38ms/step - loss: 6.0067e-04 - accuracy: 4.4514e-04\n",
      "Epoch 34/50\n",
      "141/141 [==============================] - ETA: 0s - loss: 6.0524e-04 - accuracy: 4.4514e-04WARNING:tensorflow:Can save best model only with val_loss available, skipping.\n",
      "141/141 [==============================] - 5s 37ms/step - loss: 6.0524e-04 - accuracy: 4.4514e-04\n",
      "Epoch 35/50\n",
      "141/141 [==============================] - ETA: 0s - loss: 6.1153e-04 - accuracy: 4.4514e-04WARNING:tensorflow:Can save best model only with val_loss available, skipping.\n",
      "141/141 [==============================] - 5s 37ms/step - loss: 6.1153e-04 - accuracy: 4.4514e-04\n",
      "Epoch 36/50\n",
      "140/141 [============================>.] - ETA: 0s - loss: 5.7470e-04 - accuracy: 4.4643e-04WARNING:tensorflow:Can save best model only with val_loss available, skipping.\n",
      "141/141 [==============================] - 5s 39ms/step - loss: 5.7333e-04 - accuracy: 4.4514e-04\n",
      "Epoch 37/50\n",
      "140/141 [============================>.] - ETA: 0s - loss: 6.0025e-04 - accuracy: 4.4643e-04WARNING:tensorflow:Can save best model only with val_loss available, skipping.\n",
      "141/141 [==============================] - 6s 40ms/step - loss: 6.0090e-04 - accuracy: 4.4514e-04\n",
      "Epoch 38/50\n",
      "140/141 [============================>.] - ETA: 0s - loss: 6.5806e-04 - accuracy: 4.4643e-04WARNING:tensorflow:Can save best model only with val_loss available, skipping.\n",
      "141/141 [==============================] - 5s 38ms/step - loss: 6.5832e-04 - accuracy: 4.4514e-04\n",
      "Epoch 39/50\n",
      "141/141 [==============================] - ETA: 0s - loss: 6.0960e-04 - accuracy: 4.4514e-04WARNING:tensorflow:Can save best model only with val_loss available, skipping.\n",
      "141/141 [==============================] - 5s 34ms/step - loss: 6.0960e-04 - accuracy: 4.4514e-04\n",
      "Epoch 40/50\n",
      "141/141 [==============================] - ETA: 0s - loss: 6.0459e-04 - accuracy: 4.4514e-04WARNING:tensorflow:Can save best model only with val_loss available, skipping.\n",
      "141/141 [==============================] - 5s 39ms/step - loss: 6.0459e-04 - accuracy: 4.4514e-04\n",
      "Epoch 41/50\n",
      "141/141 [==============================] - ETA: 0s - loss: 5.5403e-04 - accuracy: 4.4514e-04WARNING:tensorflow:Can save best model only with val_loss available, skipping.\n",
      "141/141 [==============================] - 5s 39ms/step - loss: 5.5403e-04 - accuracy: 4.4514e-04\n",
      "Epoch 42/50\n",
      "140/141 [============================>.] - ETA: 0s - loss: 6.3095e-04 - accuracy: 4.4643e-04WARNING:tensorflow:Can save best model only with val_loss available, skipping.\n",
      "141/141 [==============================] - 5s 38ms/step - loss: 6.3221e-04 - accuracy: 4.4514e-04\n",
      "Epoch 43/50\n",
      "141/141 [==============================] - ETA: 0s - loss: 5.7708e-04 - accuracy: 4.4514e-04WARNING:tensorflow:Can save best model only with val_loss available, skipping.\n",
      "141/141 [==============================] - 5s 37ms/step - loss: 5.7708e-04 - accuracy: 4.4514e-04\n",
      "Epoch 44/50\n",
      "141/141 [==============================] - ETA: 0s - loss: 5.8912e-04 - accuracy: 4.4514e-04 ETA: 1s - loss: - ETA: 0s - loss: 5.8580e-04 - accuracy: 4.WARNING:tensorflow:Can save best model only with val_loss available, skipping.\n",
      "141/141 [==============================] - 5s 36ms/step - loss: 5.8912e-04 - accuracy: 4.4514e-04\n",
      "Epoch 45/50\n",
      "141/141 [==============================] - ETA: 0s - loss: 6.0086e-04 - accuracy: 4.4514e-04WARNING:tensorflow:Can save best model only with val_loss available, skipping.\n",
      "141/141 [==============================] - 5s 34ms/step - loss: 6.0086e-04 - accuracy: 4.4514e-04\n",
      "Epoch 46/50\n",
      "141/141 [==============================] - ETA: 0s - loss: 5.9678e-04 - accuracy: 4.4514e-04WARNING:tensorflow:Can save best model only with val_loss available, skipping.\n",
      "141/141 [==============================] - 5s 35ms/step - loss: 5.9678e-04 - accuracy: 4.4514e-04\n",
      "Epoch 47/50\n",
      "141/141 [==============================] - ETA: 0s - loss: 6.2281e-04 - accuracy: 4.4514e-04WARNING:tensorflow:Can save best model only with val_loss available, skipping.\n",
      "141/141 [==============================] - 5s 36ms/step - loss: 6.2281e-04 - accuracy: 4.4514e-04\n",
      "Epoch 48/50\n",
      "141/141 [==============================] - ETA: 0s - loss: 5.7111e-04 - accuracy: 4.4514e-04 ETA: 1s - loss: 5.8244e-04 - accuracy: 6.3131e- - ETA: 1s -WARNING:tensorflow:Can save best model only with val_loss available, skipping.\n",
      "141/141 [==============================] - 5s 35ms/step - loss: 5.7111e-04 - accuracy: 4.4514e-04\n",
      "Epoch 49/50\n",
      "141/141 [==============================] - ETA: 0s - loss: 5.8530e-04 - accuracy: 4.4514e-04 ETA: 1s - loss:WARNING:tensorflow:Can save best model only with val_loss available, skipping.\n",
      "141/141 [==============================] - 5s 35ms/step - loss: 5.8530e-04 - accuracy: 4.4514e-04\n",
      "Epoch 50/50\n",
      "141/141 [==============================] - ETA: 0s - loss: 5.8250e-04 - accuracy: 4.4514e-04WARNING:tensorflow:Can save best model only with val_loss available, skipping.\n",
      "141/141 [==============================] - 5s 35ms/step - loss: 5.8250e-04 - accuracy: 4.4514e-04\n"
     ]
    }
   ],
   "source": [
    "checkpointer = ModelCheckpoint(filepath = 'best_weights.hdf5', verbose = 1, save_best_only = True)\n",
    "his=model.fit(X_train,y_train,epochs=50,batch_size=32,callbacks=[checkpointer])"
   ]
  },
  {
   "cell_type": "code",
   "execution_count": 36,
   "id": "411835a1",
   "metadata": {},
   "outputs": [
    {
     "data": {
      "image/png": "[encoded data removed]",
      "text/plain": [
       "<Figure size 432x288 with 1 Axes>"
      ]
     },
     "metadata": {
      "needs_background": "light"
     },
     "output_type": "display_data"
    }
   ],
   "source": [
    "plt.plot(his.history['loss'])\n",
    "plt.plot(his.history['accuracy'])\n",
    "plt.title('model loss')\n",
    "plt.ylabel('loss')\n",
    "plt.xlabel('epoch')\n",
    "plt.legend(['loss','accuracy'])\n",
    "plt.show()"
   ]
  },
  {
   "cell_type": "code",
   "execution_count": 37,
   "id": "071c1c61",
   "metadata": {},
   "outputs": [],
   "source": [
    "# Now to get the test set ready in a similar way as the training set.\n",
    "\n",
    "# This our the outputs we are going to compare our predictions to... keep them safe\n",
    "real_prices = test.values\n",
    "total_dataset = pd.concat((train, test), axis=0)\n",
    "\n",
    "# Let's find the number of days in the training data\n",
    "len_train_data = len(total_dataset)-len(test)\n",
    "\n",
    "# Here we need 30 days prior to predict the first test data. Thus why we are using days from the training set to help predict TEST DAY 1\n",
    "model_inputs = total_dataset[len_train_data-prediction_days:].values\n",
    "model_inputs = model_inputs.reshape(-1,1) # -1 here indicated that we keep the same the dimension meaning dimension (3,) becomes here (3,1)\n",
    "\n",
    "# Normalzing the model inputs as we did previously but now for the test data inputs\n",
    "model_inputs = scaler.transform(model_inputs)"
   ]
  },
  {
   "cell_type": "code",
   "execution_count": 38,
   "id": "4776ac59",
   "metadata": {},
   "outputs": [],
   "source": [
    "#We prepare the test inputs x_test now. We do so in the same fashion as the x_train, however notice that we do not assign a y_test variable here since we will be predicting it and comparing it to real_prices\n",
    "\n",
    "# Preparing x_test \n",
    "x_test = []\n",
    "for day in range(prediction_days,len(model_inputs)):\n",
    "    x_test.append(model_inputs[day-prediction_days:day,0])\n",
    "\n",
    "x_test = np.array(x_test)\n",
    "x_test = np.reshape(x_test,(x_test.shape[0],x_test.shape[1],1))\n",
    "\n",
    "# Predicting the prices\n",
    "predicted_prices = model.predict(x_test)\n",
    "predicted_prices = scaler.inverse_transform(predicted_prices) # Have to inverse transform to \"un-normalize\" the values"
   ]
  },
  {
   "cell_type": "code",
   "execution_count": 39,
   "id": "09806b85",
   "metadata": {},
   "outputs": [
    {
     "data": {
      "image/png": "[encoded data removed]",
      "text/plain": [
       "<Figure size 432x288 with 1 Axes>"
      ]
     },
     "metadata": {
      "needs_background": "light"
     },
     "output_type": "display_data"
    }
   ],
   "source": [
    "plt.plot(real_prices, color='red', label=f\"Actual price\")\n",
    "plt.plot(predicted_prices, color= 'blue', label=\"Predicted 5-days-after price\")\n",
    "plt.title(\"IBM Stock\")\n",
    "plt.xlabel(\"Days in test period\")\n",
    "plt.ylabel(\"Price\")\n",
    "plt.legend()\n",
    "plt.show()"
   ]
  },
  {
   "cell_type": "code",
   "execution_count": null,
   "id": "5671d5f6",
   "metadata": {},
   "outputs": [],
   "source": []
  }
 ],
 "metadata": {
  "kernelspec": {
   "display_name": "Python 3",
   "language": "python",
   "name": "python3"
  },
  "language_info": {
   "codemirror_mode": {
    "name": "ipython",
    "version": 3
   },
   "file_extension": ".py",
   "mimetype": "text/x-python",
   "name": "python",
   "nbconvert_exporter": "python",
   "pygments_lexer": "ipython3",
   "version": "3.8.8"
  }
 },
 "nbformat": 4,
 "nbformat_minor": 5
}
